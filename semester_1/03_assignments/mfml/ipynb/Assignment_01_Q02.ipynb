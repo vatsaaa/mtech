{
  "nbformat": 4,
  "nbformat_minor": 0,
  "metadata": {
    "colab": {
      "provenance": [],
      "authorship_tag": "ABX9TyMJUoljg787Qj/UGJdrEMZa",
      "include_colab_link": true
    },
    "kernelspec": {
      "name": "python3",
      "display_name": "Python 3"
    },
    "language_info": {
      "name": "python"
    }
  },
  "cells": [
    {
      "cell_type": "markdown",
      "metadata": {
        "id": "view-in-github",
        "colab_type": "text"
      },
      "source": [
        "<a href=\"https://colab.research.google.com/github/vatsaaa/mtech/blob/main/semester_1/03_assignments/mfml/Assignment_01_Q02.ipynb\" target=\"_parent\"><img src=\"https://colab.research.google.com/assets/colab-badge.svg\" alt=\"Open In Colab\"/></a>"
      ]
    },
    {
      "cell_type": "markdown",
      "source": [
        "Consider a symmetric and positive definite matrix A of size n `×` n. Without using external libraries like numpy, pandas, sympy etc., write python code to construct an elementary matrix for every elementary row operation that is performed on A so as to get to inverse of matrix A."
      ],
      "metadata": {
        "id": "nqCFfasHnlg8"
      }
    },
    {
      "cell_type": "code",
      "source": [
        "import sys\n",
        "\n",
        "EPSILON = 100000 * sys.float_info.epsilon\n",
        "\n",
        "A = [[4, 1, 2],\n",
        "     [1, 3, 2],\n",
        "     [2, 2, 5]]\n",
        "\n",
        "def print_matrix(matrix):\n",
        "    print(\"[\", end=\"\")\n",
        "    for i, row in enumerate(matrix):\n",
        "        updated_row = [0 if abs(element) < EPSILON else element for element in row]\n",
        "        print(updated_row, end=\"\")\n",
        "        if i != len(matrix) - 1:\n",
        "            print(\",\\n\", end=\"\")\n",
        "    print(\"]\")\n"
      ],
      "metadata": {
        "id": "4rzdQoeitJBW"
      },
      "execution_count": null,
      "outputs": []
    },
    {
      "cell_type": "code",
      "source": [
        "def find_inverse(matrix):\n",
        "    \"\"\"Finds the inverse of a square matrix using Gaussian elimination.\"\"\"\n",
        "\n",
        "    n = len(matrix)\n",
        "\n",
        "    # Check if the matrix is square\n",
        "    if n != len(matrix[0]):\n",
        "        raise ValueError(\"Matrix must be square to have an inverse\")\n",
        "\n",
        "    # Create augmented matrix with identity matrix on the right\n",
        "    augmented_matrix = [row + [0.0] * n for row in matrix]\n",
        "    for i in range(n):\n",
        "        augmented_matrix[i][n + i] = 1.0\n",
        "\n",
        "    # Perform Gaussian elimination\n",
        "    for j in range(n):\n",
        "        # Find the pivot row\n",
        "        pivot_row = j\n",
        "        for i in range(j + 1, n):\n",
        "            if abs(augmented_matrix[i][j]) > abs(augmented_matrix[pivot_row][j]):\n",
        "                pivot_row = i\n",
        "\n",
        "        # Swap rows if necessary\n",
        "        if pivot_row != j:\n",
        "            augmented_matrix[j], augmented_matrix[pivot_row] = augmented_matrix[pivot_row], augmented_matrix[j]\n",
        "\n",
        "        # Perform row operations to eliminate elements below the pivot\n",
        "        pivot = augmented_matrix[j][j]\n",
        "        for i in range(j + 1, n):\n",
        "            factor = augmented_matrix[i][j] / pivot\n",
        "            for k in range(j, n * 2):\n",
        "                augmented_matrix[i][k] -= factor * augmented_matrix[j][k]\n",
        "\n",
        "    # Check for singular matrix\n",
        "    for j in range(n):\n",
        "        if abs(augmented_matrix[j][j]) < 1e-10:\n",
        "            raise ValueError(\"Matrix is singular and does not have an inverse\")\n",
        "\n",
        "    # Perform back-substitution to make the diagonal elements equal to 1\n",
        "    for j in range(n - 1, -1, -1):\n",
        "        pivot = augmented_matrix[j][j]\n",
        "        for k in range(n * 2):\n",
        "            augmented_matrix[j][k] /= pivot\n",
        "        for i in range(j - 1, -1, -1):\n",
        "            factor = augmented_matrix[i][j]\n",
        "            for k in range(n * 2):\n",
        "                augmented_matrix[i][k] -= factor * augmented_matrix[j][k]\n",
        "\n",
        "    # Extract the inverse matrix from the right side of the augmented matrix\n",
        "    inverse = [[augmented_matrix[i][n + j] for j in range(n)] for i in range(n)]\n",
        "\n",
        "    return inverse\n"
      ],
      "metadata": {
        "id": "bg9E9XglHwCd"
      },
      "execution_count": null,
      "outputs": []
    },
    {
      "cell_type": "code",
      "source": [
        "import numpy as np\n",
        "\n",
        "print_matrix(np.linalg.inv(A))"
      ],
      "metadata": {
        "colab": {
          "base_uri": "https://localhost:8080/"
        },
        "id": "o3BijdE7IVl6",
        "outputId": "37025661-e21f-4630-d756-6798e6e01b48"
      },
      "execution_count": null,
      "outputs": [
        {
          "output_type": "stream",
          "name": "stdout",
          "text": [
            "[[0.3142857142857143, -0.02857142857142858, -0.11428571428571428],\n",
            "[-0.02857142857142857, 0.45714285714285713, -0.17142857142857143],\n",
            "[-0.11428571428571428, -0.1714285714285714, 0.3142857142857143]]\n"
          ]
        }
      ]
    },
    {
      "cell_type": "code",
      "source": [
        "print_matrix(find_inverse(A))"
      ],
      "metadata": {
        "colab": {
          "base_uri": "https://localhost:8080/"
        },
        "id": "_nczE7EvIq85",
        "outputId": "f501d4e4-bcc4-4801-ecfe-3066c2f64a2b"
      },
      "execution_count": null,
      "outputs": [
        {
          "output_type": "stream",
          "name": "stdout",
          "text": [
            "[[0.3142857142857143, -0.028571428571428567, -0.11428571428571428],\n",
            "[-0.02857142857142857, 0.45714285714285713, -0.17142857142857143],\n",
            "[-0.1142857142857143, -0.17142857142857143, 0.3142857142857143]]\n"
          ]
        }
      ]
    },
    {
      "cell_type": "code",
      "source": [
        "result = np.matmul(A, find_inverse(A))"
      ],
      "metadata": {
        "id": "5QKK6nXCMqT7"
      },
      "execution_count": null,
      "outputs": []
    },
    {
      "cell_type": "code",
      "source": [
        "print_matrix(result)"
      ],
      "metadata": {
        "colab": {
          "base_uri": "https://localhost:8080/"
        },
        "id": "IiepbR2hM9ZP",
        "outputId": "712ce8d0-e5dd-4e23-a7c2-f4517eac4edd"
      },
      "execution_count": null,
      "outputs": [
        {
          "output_type": "stream",
          "name": "stdout",
          "text": [
            "[[1.0, 0, 0],\n",
            "[0, 0.9999999999999999, 0],\n",
            "[0, 0, 1.0]]\n"
          ]
        }
      ]
    },
    {
      "cell_type": "code",
      "source": [
        "def find_inverse_with_elementary_matrices(matrix):\n",
        "    \"\"\"\n",
        "    Finds the inverse of a symmetric and positive definite matrix using elementary matrices.\n",
        "\n",
        "    Args:\n",
        "        matrix: A symmetric and positive definite matrix of size n x n.\n",
        "\n",
        "    Returns:\n",
        "        A dictionary containing:\n",
        "            - \"input_matrix\": The original input matrix (unmodified).\n",
        "            - \"inverse_matrix\": The inverse of the input matrix.\n",
        "            - \"elementary_matrices\": The list of elementary matrices used in the process.\n",
        "\n",
        "    Raises:\n",
        "        ValueError: If the input matrix is not square, symmetric, or positive definite.\n",
        "    \"\"\"\n",
        "\n",
        "    n = len(matrix)\n",
        "\n",
        "    # Check if the matrix is square\n",
        "    if n != len(matrix[0]):\n",
        "        raise ValueError(\"Input matrix must be square\")\n",
        "\n",
        "    # Check if the matrix is symmetric\n",
        "    for i in range(n):\n",
        "        for j in range(i + 1, n):\n",
        "            if abs(matrix[i][j] - matrix[j][i]) > EPSILON:\n",
        "                raise ValueError(\"Input matrix must be symmetric\")\n",
        "\n",
        "    # Check if the matrix is positive definite\n",
        "    for i in range(n):\n",
        "        if matrix[i][i] <= 0:\n",
        "            raise ValueError(\"Input matrix must be positive definite\")\n",
        "\n",
        "    # Initialize the inverse matrix as the identity matrix\n",
        "    inverse = [[1 if i == j else 0 for j in range(n)] for i in range(n)]\n",
        "\n",
        "    # Initialize the list of elementary matrices\n",
        "    elementary_matrices = []\n",
        "\n",
        "    # Create a copy of the matrix to avoid modifying the original input\n",
        "    matrix_copy = [row.copy() for row in matrix]\n",
        "\n",
        "    # Perform Gaussian elimination with row operations on the copy of the matrix\n",
        "    for i in range(n):\n",
        "        # Find the pivot element\n",
        "        pivot = matrix_copy[i][i]\n",
        "\n",
        "        # Check if the pivot is close to zero\n",
        "        if abs(pivot) < EPSILON:\n",
        "            raise ValueError(\"Input matrix is not positive definite\")\n",
        "\n",
        "        # Update the inverse matrix\n",
        "        for j in range(n):\n",
        "            inverse[i][j] /= pivot\n",
        "\n",
        "        # Update the list of elementary matrices\n",
        "        elementary_matrix = [[1 if i == j else 0 for j in range(n)] for i in range(n)]\n",
        "        for j in range(n):\n",
        "            elementary_matrix[i][j] /= pivot\n",
        "        elementary_matrices.append(elementary_matrix)\n",
        "\n",
        "        # Perform row operations to eliminate the non-pivot elements\n",
        "        for j in range(i + 1, n):\n",
        "            factor = matrix_copy[j][i] / pivot\n",
        "            for k in range(n):\n",
        "                matrix_copy[j][k] -= factor * matrix_copy[i][k]\n",
        "                inverse[j][k] -= factor * inverse[i][k]\n",
        "\n",
        "    # Return the result, ensuring the original input matrix is preserved\n",
        "    return {\n",
        "        \"input_matrix\": matrix,\n",
        "        \"inverse_matrix\": inverse,\n",
        "        \"elementary_matrices\": elementary_matrices\n",
        "    }\n"
      ],
      "metadata": {
        "id": "PW63-xPkPr_6"
      },
      "execution_count": null,
      "outputs": []
    },
    {
      "cell_type": "code",
      "source": [
        "matrix = [[2, 1, 1], [1, 3, 2], [1, 2, 4]]\n",
        "result = find_inverse_with_elementary_matrices(matrix)\n",
        "\n",
        "print(np.matmul(result.get('input_matrix'), result.get('inverse_matrix')))"
      ],
      "metadata": {
        "colab": {
          "base_uri": "https://localhost:8080/"
        },
        "id": "zeapokKIPvD6",
        "outputId": "204494c5-8792-4ca2-858f-3e3326bc24ee"
      },
      "execution_count": null,
      "outputs": [
        {
          "output_type": "stream",
          "name": "stdout",
          "text": [
            "[[0.82692308 0.30769231 0.38461538]\n",
            " [0.05384615 1.01538462 0.76923077]\n",
            " [0.00769231 0.43076923 1.53846154]]\n"
          ]
        }
      ]
    }
  ]
}