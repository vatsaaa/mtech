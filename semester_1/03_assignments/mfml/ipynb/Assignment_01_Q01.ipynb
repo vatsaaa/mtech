{
  "nbformat": 4,
  "nbformat_minor": 0,
  "metadata": {
    "colab": {
      "provenance": [],
      "authorship_tag": "ABX9TyPWZz6cZzKxmf7y7gCYysEi",
      "include_colab_link": true
    },
    "kernelspec": {
      "name": "python3",
      "display_name": "Python 3"
    },
    "language_info": {
      "name": "python"
    }
  },
  "cells": [
    {
      "cell_type": "markdown",
      "metadata": {
        "id": "view-in-github",
        "colab_type": "text"
      },
      "source": [
        "<a href=\"https://colab.research.google.com/github/vatsaaa/mtech/blob/main/semester_1/03_assignments/mfml/Assignment_01_Q01.ipynb\" target=\"_parent\"><img src=\"https://colab.research.google.com/assets/colab-badge.svg\" alt=\"Open In Colab\"/></a>"
      ]
    },
    {
      "cell_type": "markdown",
      "source": [
        "Python function to create a random matrix, but without using libraries"
      ],
      "metadata": {
        "id": "E3sQoOj3Iat3"
      }
    },
    {
      "cell_type": "markdown",
      "source": [
        "### Copyright (c) 2023 G. Ankur Vatsa\n",
        "This code is for my M. Tech. assignments. The copyright is addded in good faith that it will restrict others from using and copying for submitting as their own assignments.\n",
        "\n",
        "The algorithms implemented in the code below are all well known. I have explained the algorithms in the text before the code, which you are welcome to read and follow. Thus, if you happen to walk into this repository, I request you not copy or use this code."
      ],
      "metadata": {
        "id": "O_nbH5PQAWC7"
      }
    },
    {
      "cell_type": "code",
      "source": [
        "import random\n",
        "\n",
        "def generate_random_matrix(rows: int, columns: int, allow_decimals: bool=False) -> list:\n",
        "    matrix = []\n",
        "\n",
        "    for _ in range(rows):\n",
        "      if allow_decimals:\n",
        "        # Chose 100 and 990 so that the matrix printing is better to look at\n",
        "        row = [random.choice([random.randint(10, 99999),\n",
        "                              round(random.uniform(0, 1), 2)])\n",
        "                              for _ in range(columns)]\n",
        "      else:\n",
        "        # Chose 100 and 990 so that the matrix printing is better to look at\n",
        "        row = [random.randint(10, 99999) for _ in range(columns)]\n",
        "\n",
        "        matrix.append(row)\n",
        "\n",
        "    return matrix"
      ],
      "metadata": {
        "id": "NPLp0yo8Iqed"
      },
      "execution_count": 60,
      "outputs": []
    },
    {
      "cell_type": "code",
      "source": [
        "three_by_three = generate_random_matrix(3, 3, False)\n",
        "\n",
        "three_by_three"
      ],
      "metadata": {
        "colab": {
          "base_uri": "https://localhost:8080/"
        },
        "id": "8pJAHIESLfw1",
        "outputId": "8836104c-d2cf-4cdd-bd2c-40d4b1780128"
      },
      "execution_count": 29,
      "outputs": [
        {
          "output_type": "execute_result",
          "data": {
            "text/plain": [
              "[[618, 909, 905], [504, 809, 196], [386, 899, 921]]"
            ]
          },
          "metadata": {},
          "execution_count": 29
        }
      ]
    },
    {
      "cell_type": "markdown",
      "source": [
        "By defaut, the matrix generated is printed in a single line, that really does not look like a matrix. So, I have created my own function to print a matrix that looks like a matrix.\n",
        "\n",
        "\n",
        "```\n",
        "[ [ 584, 108], [118, 465 ] ]    Vs    [ [ 584, 108 ],\n",
        "                                        [ 118, 465 ] ]\n",
        "```\n",
        "\n",
        "The `print_matrix` function takes a matrix as input and prints it in a formatted way:\n",
        "\n",
        "- print the opening square bracket \"[\" to begin the matrix\n",
        "- iterate over each row in the matrix, and use `enumerate` function to get both the index (i) and the row (row) in each iteration.\n",
        "- for each iteration compress the lists to create an updated row.\n",
        "- If the absolute value in matrix-cell is less than `sys.float_info.epsilon`, the element is replaced with 0. This is done to handle floating-point precision issues and ensure that very small values are treated as 0.\n",
        "- Finally, a closing square bracket \"]\" is printed to represent the end of the matrix.\n",
        "\n",
        "In summary, the print_matrix function takes a matrix, replaces very small values with 0, and prints it."
      ],
      "metadata": {
        "id": "Tz1_ZPxoL8nU"
      }
    },
    {
      "cell_type": "code",
      "source": [
        "import sys\n",
        "\n",
        "def print_matrix(matrix):\n",
        "    print(\"[\", end=\"\")\n",
        "    for i, row in enumerate(matrix):\n",
        "        updated_row = [0 if abs(element) < sys.float_info.epsilon else element for element in row]\n",
        "        print(updated_row, end=\"\")\n",
        "        if i != len(matrix) - 1:\n",
        "            print(\",\\n\", end=\"\")\n",
        "    print(\"]\")\n"
      ],
      "metadata": {
        "id": "anAUIBwfMTVu"
      },
      "execution_count": 5,
      "outputs": []
    },
    {
      "cell_type": "code",
      "source": [
        "print_matrix(three_by_three)"
      ],
      "metadata": {
        "colab": {
          "base_uri": "https://localhost:8080/"
        },
        "id": "UqsGdTHcMhoE",
        "outputId": "c86ec0a7-ba01-41de-f03e-0a035dce6524"
      },
      "execution_count": 30,
      "outputs": [
        {
          "output_type": "stream",
          "name": "stdout",
          "text": [
            "[[618, 909, 905],\n",
            "[504, 809, 196],\n",
            "[386, 899, 921]]\n"
          ]
        }
      ]
    },
    {
      "cell_type": "markdown",
      "source": [
        "Now we get a two_by_one matrix, before creating the augmented matrix"
      ],
      "metadata": {
        "id": "vOirCDPJMxuB"
      }
    },
    {
      "cell_type": "code",
      "source": [
        "three_by_one = generate_random_matrix(3, 1, False)\n",
        "\n",
        "print_matrix(three_by_one)"
      ],
      "metadata": {
        "colab": {
          "base_uri": "https://localhost:8080/"
        },
        "id": "TjGKBWm4M-lb",
        "outputId": "3118b686-489c-4ac4-8bdb-79e719dec1ea"
      },
      "execution_count": 31,
      "outputs": [
        {
          "output_type": "stream",
          "name": "stdout",
          "text": [
            "[[407],\n",
            "[216],\n",
            "[398]]\n"
          ]
        }
      ]
    },
    {
      "cell_type": "markdown",
      "source": [
        "In the well known Gauss Elimination, the augmented matrix is created by keeping `lhs_A | rhs_b` together to create a single matrix. `construct_augmented_matrix()` function creates such an augmented matrix.\n",
        "\n",
        "Length of matrix A must be equal to the length of matrix b. If they are not equal, it raises a generic `Exception` with proper message that clarifies the input expected by the function.\n",
        "\n",
        "Following this basic check, for every row in lhs_A and rhs_b the function bunches together `row` and `bi` in a single row of  new matrix and returns the final matrix thus created.\n"
      ],
      "metadata": {
        "id": "8_alXiP9NaDI"
      }
    },
    {
      "cell_type": "code",
      "source": [
        "def construct_augmented_matrix(lhs_A: list, rhs_b: list):\n",
        "    if len(lhs_A) != len(rhs_b):\n",
        "        raise Exception(\"Number of rows in A must be equal to the length of b\")\n",
        "\n",
        "    # Zip lhs_A and rhs_b to create the augmented matrix\n",
        "    augmented_matrix = [row + bi for row, bi in zip(lhs_A, rhs_b)]\n",
        "\n",
        "    return augmented_matrix"
      ],
      "metadata": {
        "id": "6j5doxcKNuFD"
      },
      "execution_count": 32,
      "outputs": []
    },
    {
      "cell_type": "code",
      "source": [
        "A = three_by_three\n",
        "b = three_by_one\n",
        "\n",
        "augmented_matrix_A_b = construct_augmented_matrix(A, b)\n",
        "\n",
        "print_matrix(augmented_matrix_A_b)"
      ],
      "metadata": {
        "colab": {
          "base_uri": "https://localhost:8080/"
        },
        "id": "byFwL7NMN2us",
        "outputId": "2863d4bf-1bcf-444e-d541-8f8933acac5b"
      },
      "execution_count": 33,
      "outputs": [
        {
          "output_type": "stream",
          "name": "stdout",
          "text": [
            "[[618, 909, 905, 407],\n",
            "[504, 809, 196, 216],\n",
            "[386, 899, 921, 398]]\n"
          ]
        }
      ]
    },
    {
      "cell_type": "markdown",
      "source": [
        "Function to find row echelon form of a given matrix\n",
        "\n",
        "The `find_row_echelon_form()` function takes a matrix as input and returns the row echelon form of the given matrix. Row echelon form is a specific form of a matrix where each row has more leading zeros than the row above it.\n",
        "\n",
        "- Get the number of rows in the matrix using the len function, and number columns is the length of one row\n",
        "- Initialize the `pivot` variable, to keep track of the current pivot position. `pivot position` is the column index where the next pivot element should be found.\n",
        "\n",
        "Now, iterate over each row in the matrix\n",
        "- Check if the `pivot position` is greater than or equal to the number of columns. If it is equal to the number of columns, break out of the loop to stop the algorithm when it processes the last column.\n",
        "- Check if the element at the current row and pivot position is zero. If it is zero, it means that a pivot element needs to be found in a lower row. In this case, iterate over the rows below the current row using another for loop.\n",
        "- Inside the inner loop, check if the element at the current row and pivot position is non-zero. If it is non-zero, swap the current row with the row that has the non-zero element. This step ensures that a non-zero pivot element is brought to the current row.\n",
        "- If no non-zero element is found in the rows below the current row, increment the pivot position and continue to the next iteration of the outer loop. This step ensures that the algorithm moves to the next column when there are no non-zero elements below the current row.\n",
        "- If a non-zero element is found in the rows below the current row, perform elementary row transformations to make all elements below the pivot position zero. This step ensures that below the pivot, we get zeros in the entire column.\n",
        "- Inside the inner loop, calculate the factor by dividing the element at the current row and pivot position by the element at the pivot row and pivot position. This factor will be used to eliminate the non-zero element below the pivot.\n",
        "- Iterate over the columns starting from the pivot position and update the elements in the current row by subtracting the product of the factor and the corresponding element in the pivot row. This step ensures that all elements below the pivot position become zero.\n",
        "- Increment the pivot position and continue to the next iteration of the outer loop. This step ensures that the algorithm moves to the next column.\n",
        "\n",
        "As the outer loop finishes, the modified matrix (which is in row echelon) form is returned."
      ],
      "metadata": {
        "id": "7CueIeoEOmdT"
      }
    },
    {
      "cell_type": "code",
      "source": [
        "from math import floor, ceil\n",
        "from sys import float_info\n",
        "\n",
        "def find_row_echelon_form(matrix: list):\n",
        "    rows = len(matrix)\n",
        "    columns = len(matrix[0])\n",
        "\n",
        "    pivot = 0\n",
        "    for row in range(rows):\n",
        "        if pivot >= columns:\n",
        "            break\n",
        "\n",
        "        # When pivot is 0 find a row where pivot element is not 0 and\n",
        "        if matrix[row][pivot] == 0:\n",
        "            for r in range(row + 1, rows):\n",
        "                if matrix[r][pivot] != 0:\n",
        "                    # swap current row and row with non-zero pivot element\n",
        "                    matrix[row], matrix[r] = matrix[r], matrix[row]\n",
        "                    break\n",
        "                else:\n",
        "                    pivot += 1\n",
        "                    continue\n",
        "\n",
        "        # Now, when pivot position is not 0, do elementary row transformation\n",
        "        # so as to ensure below the pivot we get zeros in the entire column\n",
        "        for r in range(row + 1, rows):\n",
        "            factor_nr = float(matrix[r][pivot])\n",
        "            factor_dr = float(matrix[row][pivot])\n",
        "            try:\n",
        "                factor = (factor_nr / factor_dr)\n",
        "            except ZeroDivisionError:\n",
        "                print(\"Error: Division by zero!\" + \"Please take another suitable matrix.\")\n",
        "                print(\"factor = matrix[r={r}][pivot={pivot}] / matrix[row={row}][[pivot={pivot}] = {nr} / {dr} = {factor}\".format(r=r, row=row, pivot=pivot, nr=matrix[r][pivot], dr=matrix[row][pivot], factor=factor))\n",
        "\n",
        "            for c in range(pivot, columns):\n",
        "                matrix[r][c] = (float(matrix[r][c]) - factor * float(matrix[row][c]))\n",
        "                if matrix[r][c] <= sys.float_info.epsilon:\n",
        "                    matrix[r][c] = 0\n",
        "\n",
        "        pivot += 1\n",
        "\n",
        "    return matrix"
      ],
      "metadata": {
        "id": "E1GjP_PMOuHW"
      },
      "execution_count": 26,
      "outputs": []
    },
    {
      "cell_type": "code",
      "source": [
        "ref_A_b = find_row_echelon_form(augmented_matrix_A_b)\n",
        "\n",
        "print_matrix(ref_A_b)"
      ],
      "metadata": {
        "colab": {
          "base_uri": "https://localhost:8080/"
        },
        "id": "Ik0sVY6TRNfS",
        "outputId": "738225dd-ab48-470a-e492-c065788cb73a"
      },
      "execution_count": 34,
      "outputs": [
        {
          "output_type": "stream",
          "name": "stdout",
          "text": [
            "[[618, 909, 905, 407],\n",
            "[0, 67.67961165048541, 0, 0],\n",
            "[0, 0, 355.74110032362455, 143.789644012945]]\n"
          ]
        }
      ]
    },
    {
      "cell_type": "markdown",
      "source": [
        "`is_row_echelon()` function checks if its input matrix is in row echelon form. It verifies that each row has a non-zero pivot element, and all the elements below the pivot in the same column are zero.\n",
        "\n",
        "Start by iterating over each row in the matrix.\n",
        "- if the pivot value is greater than or equal to the number of columns, break out of the loop since all the remaining columns are zero.\n",
        "- if the pivot element in the current row is zero the matrix is not in row echelon form, so return False\n",
        "- when `pivot element` is non-zero then iterate over the rows below the current row, and if all the elements below the pivot in the same column are zero\n",
        "Inside the inner loop, it checks if the element in the current row and the pivot column is non-zero. If it is, it means that the matrix is not in row echelon form, and the function returns False.\n",
        "\n",
        "After checking all the elements below the pivot in the current column, the pivot value is incremented to move to the next column.\n",
        "\n",
        "Once the outer loop finishes iterating over all the rows, it means that the matrix satisfies the conditions for row echelon form, and the function returns True."
      ],
      "metadata": {
        "id": "nXjHvluUzZaQ"
      }
    },
    {
      "cell_type": "code",
      "source": [
        "def is_row_echelon(matrix: list):\n",
        "    rows = len(matrix)\n",
        "    columns = len(matrix[0])\n",
        "\n",
        "    pivot = 0\n",
        "    for row in range(rows):\n",
        "      if pivot >= columns:\n",
        "        break\n",
        "\n",
        "      # Pivot positions cannot have 0 in a matrix which is in row echelon form\n",
        "      if matrix[row][pivot] < float_info.epsilon:\n",
        "        return False\n",
        "\n",
        "      # All elements below the pivot must be 0\n",
        "      for r in range(row + 1, rows):\n",
        "        if matrix[r][pivot] != 0:\n",
        "          return False\n",
        "\n",
        "      pivot += 1\n",
        "\n",
        "    return True"
      ],
      "metadata": {
        "id": "nvKvBlxWzehd"
      },
      "execution_count": 35,
      "outputs": []
    },
    {
      "cell_type": "code",
      "source": [
        "print(\"Given matrix is in REF\") if is_row_echelon(ref_A_b) else print(\"Given matrix is not in REF\")"
      ],
      "metadata": {
        "colab": {
          "base_uri": "https://localhost:8080/"
        },
        "id": "_rvFkbmHzt1M",
        "outputId": "3f46b4b4-7f90-483a-aa33-b6b35a15713f"
      },
      "execution_count": 36,
      "outputs": [
        {
          "output_type": "stream",
          "name": "stdout",
          "text": [
            "Given matrix is in REF\n"
          ]
        }
      ]
    },
    {
      "cell_type": "markdown",
      "source": [
        "Function to get reduced row echelon form of a matrix in row echelon form"
      ],
      "metadata": {
        "id": "iyUfBux-1Yp5"
      }
    },
    {
      "cell_type": "code",
      "source": [
        "def find_reduced_row_echelon_form(matrix: list, find_ref: bool=False):\n",
        "    if not is_row_echelon(matrix) and find_ref:\n",
        "        matrix = find_row_echelon_form(matrix)\n",
        "    elif not is_row_echelon(matrix) and not find_ref:\n",
        "        print(\"Given matrix is not in row echelon form, choose a different matrix to operate on!\")\n",
        "\n",
        "    rows = len(matrix)\n",
        "    columns = len(matrix[0])\n",
        "\n",
        "    pivot = 0\n",
        "    for row in range(rows):\n",
        "        if pivot >= columns:\n",
        "            break\n",
        "\n",
        "        # Divide the pivot row by the pivot element\n",
        "        pivot_element = matrix[row][pivot]\n",
        "        for c in range(columns):\n",
        "          try:\n",
        "            matrix[row][c] /= pivot_element\n",
        "          except ZeroDivisionError:\n",
        "            print(\"Error: Division by zero!\" + \"Please take another suitable matrix.\")\n",
        "            break\n",
        "\n",
        "        # Eliminate non-zero elements above the pivot\n",
        "        for r in range(row):\n",
        "            factor = matrix[r][pivot]\n",
        "            for c in range(columns):\n",
        "                matrix[r][c] -= factor * matrix[row][c]\n",
        "\n",
        "        # Eliminate non-zero elements below the pivot\n",
        "        for r in range(row + 1, rows):\n",
        "            factor = matrix[r][pivot]\n",
        "            for c in range(columns):\n",
        "                matrix[r][c] -= factor * matrix[row][c]\n",
        "\n",
        "                if matrix[r][c] <= sys.float_info.epsilon:\n",
        "                  matrix[r][c] = 0\n",
        "\n",
        "        pivot += 1\n",
        "\n",
        "    return matrix\n"
      ],
      "metadata": {
        "id": "mIIdfhj31gJZ"
      },
      "execution_count": 37,
      "outputs": []
    },
    {
      "cell_type": "code",
      "source": [
        "rref_A_b = find_reduced_row_echelon_form(ref_A_b)\n",
        "\n",
        "print_matrix(rref_A_b)"
      ],
      "metadata": {
        "id": "yhbt28ue1svd",
        "colab": {
          "base_uri": "https://localhost:8080/"
        },
        "outputId": "a4efe453-32a2-4ddb-e966-d422be4e3e69"
      },
      "execution_count": 38,
      "outputs": [
        {
          "output_type": "stream",
          "name": "stdout",
          "text": [
            "[[1.0, 0, 0, 0.0666687893453658],\n",
            "[0, 1.0, 0, 0],\n",
            "[0, 0, 1.0, 0.40419744550780545]]\n"
          ]
        }
      ]
    },
    {
      "cell_type": "markdown",
      "source": [
        "1/c) Get a 5 x 7 matrix and a 5 x 1 matrix"
      ],
      "metadata": {
        "id": "onSVq35v69P9"
      }
    },
    {
      "cell_type": "code",
      "source": [
        "five_by_seven_A = generate_random_matrix(rows=5, columns=7)\n",
        "five_by_one_b = generate_random_matrix(rows=5, columns=1)\n",
        "\n",
        "print(\"Matrix A: \")\n",
        "print_matrix(five_by_seven_A)\n",
        "print(\"\\n\\n\\n\\n\\n\")\n",
        "\n",
        "print(\"Matrix b: \")\n",
        "print_matrix(five_by_one_b)"
      ],
      "metadata": {
        "colab": {
          "base_uri": "https://localhost:8080/"
        },
        "id": "Dw8PLJkX7Ko3",
        "outputId": "d567fa47-74da-499c-8a33-b50eadd4ba08"
      },
      "execution_count": 39,
      "outputs": [
        {
          "output_type": "stream",
          "name": "stdout",
          "text": [
            "Matrix A: \n",
            "[[987, 640, 188, 583, 854, 400, 162],\n",
            "[226, 736, 403, 357, 240, 625, 682],\n",
            "[468, 361, 266, 792, 844, 649, 143],\n",
            "[911, 307, 155, 543, 265, 526, 364],\n",
            "[130, 698, 129, 662, 743, 820, 134]]\n",
            "\n",
            "\n",
            "\n",
            "\n",
            "\n",
            "\n",
            "Matrix b: \n",
            "[[334],\n",
            "[696],\n",
            "[332],\n",
            "[312],\n",
            "[268]]\n"
          ]
        }
      ]
    },
    {
      "cell_type": "code",
      "source": [
        "aug_mtx_A_b = construct_augmented_matrix(five_by_seven_A, five_by_one_b)\n",
        "\n",
        "print_matrix(aug_mtx_A_b)"
      ],
      "metadata": {
        "colab": {
          "base_uri": "https://localhost:8080/"
        },
        "id": "402v8Fo-8FxP",
        "outputId": "25bf993d-9116-4463-971c-9b02a4e326ef"
      },
      "execution_count": 40,
      "outputs": [
        {
          "output_type": "stream",
          "name": "stdout",
          "text": [
            "[[987, 640, 188, 583, 854, 400, 162, 334],\n",
            "[226, 736, 403, 357, 240, 625, 682, 696],\n",
            "[468, 361, 266, 792, 844, 649, 143, 332],\n",
            "[911, 307, 155, 543, 265, 526, 364, 312],\n",
            "[130, 698, 129, 662, 743, 820, 134, 268]]\n"
          ]
        }
      ]
    },
    {
      "cell_type": "code",
      "source": [
        "ref_A_b = find_row_echelon_form(aug_mtx_A_b)\n",
        "\n",
        "print_matrix(ref_A_b)"
      ],
      "metadata": {
        "colab": {
          "base_uri": "https://localhost:8080/"
        },
        "id": "4okbhqH28dPk",
        "outputId": "8dff889c-478d-4a5f-e210-90c906daffd1"
      },
      "execution_count": 41,
      "outputs": [
        {
          "output_type": "stream",
          "name": "stdout",
          "text": [
            "[[987, 640, 188, 583, 854, 400, 162, 334],\n",
            "[0, 589.4549138804458, 359.95238095238096, 223.5065856129686, 44.45390070921985, 533.4093211752786, 644.9057750759879, 619.5217831813577],\n",
            "[0, 0, 141.72325332764976, 493.7464918733843, 434.72481574170837, 407.2698369864144, 3.2380610252461253, 113.15948655189484],\n",
            "[0, 0, 0, 4.891590678824741, 0, 156.8004052684904, 214.4741641337386, 3.718338399189463],\n",
            "[0, 0, 0, 0, 584.2350668280072, 0, 0, 0]]\n"
          ]
        }
      ]
    },
    {
      "cell_type": "code",
      "source": [
        "print(\"Given matrix is in REF\") if is_row_echelon(ref_A_b) else print(\"Given matrix is not in REF\")"
      ],
      "metadata": {
        "colab": {
          "base_uri": "https://localhost:8080/"
        },
        "id": "QbbYYuZB9EVw",
        "outputId": "e257bba0-46ba-4c49-f8da-42ccab1067fb"
      },
      "execution_count": 42,
      "outputs": [
        {
          "output_type": "stream",
          "name": "stdout",
          "text": [
            "Given matrix is in REF\n"
          ]
        }
      ]
    },
    {
      "cell_type": "code",
      "source": [
        "rref_A_b = find_reduced_row_echelon_form(ref_A_b, True)\n",
        "\n",
        "print_matrix(rref_A_b)"
      ],
      "metadata": {
        "colab": {
          "base_uri": "https://localhost:8080/"
        },
        "id": "_B3-KHR49iK5",
        "outputId": "9e5f4e2b-453b-4b21-a31a-3b9208d3ee33"
      },
      "execution_count": 43,
      "outputs": [
        {
          "output_type": "stream",
          "name": "stdout",
          "text": [
            "[[1.0, 0, 0, 0, 0, -33.592152188686185, -47.04794082000331, -0.9853294811826622],\n",
            "[0, 1.0, 0, 0, 0, 55.1908949981136, 77.73365439193574, 1.8923719537975445],\n",
            "[0, 0, 1.0, 0, 0, -108.80233582643422, -152.72946162608662, -1.8498127411521825],\n",
            "[0, 0, 0, 1.0, 0, 32.055095277547515, 43.84548467274216, 0.760149130074562],\n",
            "[0, 0, 0, 0, 1.0, 0, 0, 0]]\n"
          ]
        }
      ]
    },
    {
      "cell_type": "code",
      "source": [
        "eight_by_twelve = generate_random_matrix(8, 12, False)\n",
        "print_matrix(eight_by_twelve)"
      ],
      "metadata": {
        "colab": {
          "base_uri": "https://localhost:8080/"
        },
        "id": "54ienm9u1hgV",
        "outputId": "fbfaf2ed-c0e6-44d2-9777-b4235c5d14ce"
      },
      "execution_count": 82,
      "outputs": [
        {
          "output_type": "stream",
          "name": "stdout",
          "text": [
            "[[90062, 31856, 25767, 22347, 93797, 77854, 60521, 94689, 74528, 56237, 47455, 8726],\n",
            "[19835, 93824, 80207, 42041, 49365, 27419, 13034, 49157, 61695, 81985, 63877, 78550],\n",
            "[59503, 34076, 4649, 15607, 56058, 67785, 85238, 46442, 87590, 74939, 63138, 46007],\n",
            "[76132, 31238, 64426, 77950, 21164, 24052, 12377, 59503, 76605, 41687, 88685, 87102],\n",
            "[93820, 9144, 38968, 65701, 63038, 38069, 57556, 52630, 43170, 53845, 2360, 96200],\n",
            "[47782, 32946, 15506, 96217, 95423, 87702, 29217, 67281, 54485, 57729, 51335, 23957],\n",
            "[70094, 70241, 74061, 75319, 54692, 38742, 84748, 49215, 88125, 20144, 77820, 25660],\n",
            "[41710, 34555, 70504, 19972, 20520, 62863, 2428, 57757, 40363, 57902, 43241, 41567]]\n"
          ]
        }
      ]
    },
    {
      "cell_type": "code",
      "source": [
        "eight_by_twelve_ref = find_row_echelon_form(eight_by_twelve)\n",
        "print_matrix(eight_by_twelve_ref)"
      ],
      "metadata": {
        "colab": {
          "base_uri": "https://localhost:8080/"
        },
        "id": "E-NpDX0o2HBO",
        "outputId": "fca5b214-5acf-4ca6-cd0d-b192298eec5b"
      },
      "execution_count": 83,
      "outputs": [
        {
          "output_type": "stream",
          "name": "stdout",
          "text": [
            "[[90062, 31856, 25767, 22347, 93797, 77854, 60521, 94689, 74528, 56237, 47455, 8726],\n",
            "[0, 86808.12471408585, 74532.1488419089, 37119.35996313651, 28707.41417023828, 10272.6553707446, 0, 28302.962614643246, 45281.164197996935, 69599.52227354489, 53425.645100042195, 76628.21045501987],\n",
            "[0, 0, 38944.59359600038, 57216.810942228134, 0, 0, 0, 0, 11356.553427975075, 0, 45917.84247008321, 75921.79148872885],\n",
            "[0, 0, 0, 24606.450920036106, 0, 0, 0, 0, 0, 0, 0, 63470.811476260875],\n",
            "[0, 0, 0, 0, 40353.35693854987, 44498.18325902682, 0, 11812.865921631725, 6575.077521638606, 15028.471368618922, 16283.176699618954, 0],\n",
            "[0, 0, 0, 0, 0, 14805.866233523599, 45252.42269769714, 0, 31553.871549366726, 27337.583182870436, 23766.303205795128, 28740.652786222185],\n",
            "[0, 0, 0, 0, 0, 0, 37645.34878195021, 0, 2044.1519132215872, 0, 0, 0],\n",
            "[0, 0, 0, 0, 0, 0, 0, 7447.970438720535, 0, 0, 0, 0]]\n"
          ]
        }
      ]
    },
    {
      "cell_type": "code",
      "source": [
        "eight_by_twelve_rref = find_reduced_row_echelon_form(eight_by_twelve_ref)\n",
        "print_matrix(eight_by_twelve_rref)"
      ],
      "metadata": {
        "colab": {
          "base_uri": "https://localhost:8080/"
        },
        "id": "mXhQmZ4x3R0i",
        "outputId": "898fa9bb-8b1c-4935-fd19-6b3eeaf69ee6"
      },
      "execution_count": 84,
      "outputs": [
        {
          "output_type": "stream",
          "name": "stdout",
          "text": [
            "[[1.0, 0, 0, 0, 0, 0, 0, 0, 0.8479013298934462, 0.3600222286506145, 0.27292167729765937, -0.11545951341208788],\n",
            "[0, 1.0, 0, 0, 0, 0, 0, 0, 0.7014592376811997, 1.1334261097616636, -0.13490968063877978, 1.8378821558958283],\n",
            "[0, 0, 1.0, 0, 0, 0, 0, 0, 0.2916079583673303, 0, 1.1790556334063014, -1.8401891285506797],\n",
            "[0, 0, 0, 1.0, 0, 0, 0, 0, 0, 0, 0, 2.5794378751540714],\n",
            "[0, 0, 0, 0, 1.0, 0, 0, 0, -2.0041269205793806, -1.66363035877952, -1.3665551278961203, -2.140550203600172],\n",
            "[0, 0, 0, 0, 0, 1.0, 0, 0, 1.9652111635410539, 1.8464021457233208, 1.6051950511333957, 1.9411665844411923],\n",
            "[0, 0, 0, 0, 0, 0, 1.0, 0, 0.0543002516741642, 0, 0, 0],\n",
            "[0, 0, 0, 0, 0, 0, 0, 1.0, 0, 0, 0, 0]]\n"
          ]
        }
      ]
    }
  ]
}