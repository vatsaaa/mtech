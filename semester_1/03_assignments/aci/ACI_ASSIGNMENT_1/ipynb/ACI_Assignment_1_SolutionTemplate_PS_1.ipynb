{
 "cells": [
  {
   "cell_type": "markdown",
   "metadata": {
    "colab_type": "text",
    "id": "view-in-github"
   },
   "source": [
    "<a href=\"https://colab.research.google.com/github/vatsaaa/mtech/blob/main/semester_1/03_assignments/aci/ACI_ASSIGNMENT_1/ipynb/ACI_Assignment_1_SolutionTemplate_PS_1.ipynb\" target=\"_parent\"><img src=\"https://colab.research.google.com/assets/colab-badge.svg\" alt=\"Open In Colab\"/></a>"
   ]
  },
  {
   "cell_type": "markdown",
   "metadata": {
    "id": "MzZ4dJQYF7sH"
   },
   "source": [
    "# Artificial and Computational Intelligence Assignment 1"
   ]
  },
  {
   "cell_type": "markdown",
   "metadata": {
    "id": "EohixQEPL9n3"
   },
   "source": [
    "## Problem solving by Uninformed & Informed Search"
   ]
  },
  {
   "cell_type": "markdown",
   "metadata": {
    "id": "h35jIBbCF7sK"
   },
   "source": [
    "1. [G. Ankur Vatsa](mailto:2023aa05727@wilp.bits-pilani.ac.in)                     30% effort contribution\n",
    "2. [NIDASANAMETLA SREE SITAMAHALAKSHMI](mailto:2023aa05716@wilp.bits-pilani.ac.in) 30% effort contribution\n",
    "3. [RANDHAWANE SANTOSH](mailto:2023aa05828@wilp.bits-pilani.ac.in)                 20% effort contribution\n",
    "4. [PRASENJIT SAMANTA](mailto:2023aa05256@wilp.bits-pilani.ac.in)                  10% effort contribution\n",
    "5. [VEDAGIRI SAI KRISHNA](mailto:2023aa05348@wilp.bits-pilani.ac.in)               10% effort contribution"
   ]
  },
  {
   "cell_type": "code",
   "execution_count": 14,
   "metadata": {
    "id": "osp61RsLF7sN"
   },
   "outputs": [],
   "source": [
    "#Code Block : Set Initial State (Must handle dynamic inputs)\n",
    "class GridGenerator:\n",
    "    def __init__(self):\n",
    "        self.grid = [\n",
    "            ['.', '.', '.', '.', '#', '#', '.', '.'],\n",
    "            ['.', 'F', 'F', '.', '.', '.', '.', 'F'],\n",
    "            ['.', '.', '.', '.', '.', '.', '.', '.'],\n",
    "            ['#', '#', '.', 'F', '.', '.', '.', '.'],\n",
    "            ['.', 'F', '.', '.', '.', '.', '#', '#'],\n",
    "            ['.', '.', '.', 'F', '.', '.', '.', '.'],\n",
    "            ['.', '#', '#', '.', '.', 'F', '.', '.'],\n",
    "            ['.', '.', '.', '.', '.', 'F', '.', '.']\n",
    "        ]\n",
    "\n",
    "    def generate_grid(self):\n",
    "        def set_position(position, symbol):\n",
    "            row, col = position\n",
    "            if row < 0 or row > len(self.grid) or col < 0 or col > len(self.grid[0]):\n",
    "                return None, \"Please enter rows position between 0 to {rows} and columns between 0 to {cols}\".format(rows=len(self.grid - 1), cols=len(self.grid[0] - 1))\n",
    "\n",
    "            if self.grid[row][col] == '#':\n",
    "                self.print_grid()\n",
    "                return None, f\"Invalid {symbol} position! This cell is occupied by a water body ('#').\"\n",
    "\n",
    "            if self.grid[row][col] == 'F':\n",
    "                self.print_grid()\n",
    "                return None, f\"Invalid {symbol} position! This cell is flooded ('F').\"\n",
    "\n",
    "            if self.grid[row][col] == 'S':\n",
    "                self.print_grid()\n",
    "                return None, f\"Invalid {symbol} position! The start and the Goal position cannot be same.\"\n",
    "\n",
    "            self.grid[row][col] = symbol\n",
    "\n",
    "            return self.grid, None\n",
    "\n",
    "        # Start position input and validation\n",
    "        while True:\n",
    "            start_input = input(\"\\nEnter the start position (row,col): \")\n",
    "            start_row, start_col = map(int, start_input.split(','))\n",
    "            grid_with_start, error_message = set_position((start_row, start_col), 'S')\n",
    "            if error_message:\n",
    "                print(error_message)\n",
    "            else:\n",
    "                break\n",
    "\n",
    "        # Goal position input and validation\n",
    "        while True:\n",
    "            goal_input = input(\"\\nEnter the goal position (row,col): \")\n",
    "            goal_row, goal_col = map(int, goal_input.split(','))\n",
    "            grid_with_goal, error_message = set_position((goal_row, goal_col), 'G')\n",
    "            if error_message:\n",
    "                print(error_message)\n",
    "            else:\n",
    "                break\n",
    "\n",
    "        # Print final grid with start and goal positions\n",
    "        print(\"\\nFinal grid with start and goal positions:\")\n",
    "        self.print_grid()\n",
    "\n",
    "    def print_grid(self):\n",
    "        for row in self.grid:\n",
    "            print(' '.join(row))\n"
   ]
  },
  {
   "cell_type": "code",
   "execution_count": 15,
   "metadata": {
    "id": "XODwoWZ0F7sO"
   },
   "outputs": [],
   "source": [
    "#Code Block : Set the matrix for transition & cost (as relevant for the given problem)\n",
    "import platform, pprint, random, sys, time\n",
    "\n",
    "if platform.system() == \"Windows\":\n",
    "    import psutil\n",
    "elif platform.system() == \"Darwin\" or platform.system() == \"Linux\":\n",
    "    import resource\n",
    "\n",
    "if platform.system() == \"Windows\":\n",
    "    def track_time_and_space(func):\n",
    "        def wrapper(*args, **kwargs):\n",
    "            start_time = time.time()\n",
    "            start_memory = psutil.Process().memory_info().rss\n",
    "\n",
    "            result = func(*args, **kwargs)\n",
    "\n",
    "            end_time = time.time()\n",
    "            end_memory = psutil.Process().memory_info().rss\n",
    "\n",
    "            print(platform.system(), start_memory, end_memory)\n",
    "\n",
    "            execution_time = end_time - start_time\n",
    "            memory_usage = (end_memory - start_memory) / 1024  # Convert to kilobytes\n",
    "\n",
    "            print(f\"Execution time: {execution_time} seconds\")\n",
    "            print(f\"Memory usage: {memory_usage} KB\")\n",
    "\n",
    "            return result, execution_time, memory_usage\n",
    "\n",
    "        return wrapper\n",
    "else:\n",
    "    def track_time_and_space(func):\n",
    "        def wrapper(*args, **kwargs):\n",
    "            start_time = time.time()\n",
    "            start_memory = resource.getrusage(resource.RUSAGE_SELF).ru_maxrss\n",
    "\n",
    "            result = func(*args, **kwargs)\n",
    "\n",
    "            end_time = time.time()\n",
    "            end_memory = resource.getrusage(resource.RUSAGE_SELF).ru_maxrss\n",
    "\n",
    "            execution_time = end_time - start_time\n",
    "            memory_usage = (end_memory - start_memory) / 1024  # Convert to kilobytes\n",
    "\n",
    "            print(f\"Execution time: {execution_time} seconds\")\n",
    "            print(f\"Memory usage: {memory_usage} KB\")\n",
    "\n",
    "            return result, execution_time, memory_usage\n",
    "\n",
    "        return wrapper\n"
   ]
  },
  {
   "cell_type": "code",
   "execution_count": 16,
   "metadata": {
    "id": "ro24Gaj7F7sO"
   },
   "outputs": [],
   "source": [
    "#Code Block : Write function to design the Transition Model/Successor function\n",
    "# Ideally this would be called while search algorithms are implemented\n",
    "import matplotlib.pyplot as plt\n",
    "\n",
    "class GridEnvironment:\n",
    "    def __init__(self, grid: list[list[str]], display: bool = False):\n",
    "        def find_start_and_goal():\n",
    "            start: tuple = (-1, -1)\n",
    "            goal: tuple = (-1, -1)\n",
    "            for i in range(self.rows):\n",
    "                for j in range(self.cols):\n",
    "                    if self.grid[i][j] == 'S':\n",
    "                        start = tuple((i, j))\n",
    "                    elif self.grid[i][j] == 'G':\n",
    "                        goal = tuple((i, j))\n",
    "            print(\"Start {start}, Goal {goal}:\".format(start=start, goal=goal))\n",
    "            return start, goal\n",
    "\n",
    "        self.grid = grid\n",
    "        self.rows = len(self.grid)\n",
    "        self.cols = len(self.grid[0])\n",
    "        self.display = display\n",
    "        self.start, self.goal = find_start_and_goal()\n",
    "\n",
    "    def visualize(self, path):\n",
    "         # Define colors for different elements\n",
    "        colors = {'S': 'green', '.': 'white', '#': 'black', 'F': 'red', 'G': 'blue'}\n",
    "        # Create a plot\n",
    "        fig, ax = plt.subplots()\n",
    "\n",
    "        # Plot each element with specified colors\n",
    "        for i in range(self.rows):\n",
    "            for j in range(self.cols):\n",
    "                ax.text(i, j, self.grid[i][j], ha='center', va='center', color=colors[self.grid[i][j]])\n",
    "\n",
    "        # Customize ticks\n",
    "        ax.set_xticks(range(len(self.grid[0])))\n",
    "        ax.set_yticks(range(len(self.grid)))\n",
    "        ax.set_xticklabels([])\n",
    "        ax.set_yticklabels([])\n",
    "\n",
    "        plt.title('S - Start, G - Goal')\n",
    "        plt.xlabel('# - Water Bodies')\n",
    "        plt.ylabel('F - Flooded Roads')\n",
    "\n",
    "        # Add grid lines\n",
    "        ax.grid(True, which='both', color='black', linewidth=1.5, linestyle='-', alpha=0.3)\n",
    "\n",
    "        col = ['red', 'green', 'blue', 'cyan', 'magenta', 'orange', 'purple']\n",
    "        colors = [col[random.randint(0, 6)] for _ in range(sys.getsizeof(path)-1)]\n",
    "        X, Y = zip(*path)\n",
    "\n",
    "        # Plot the path with different colors for each segment\n",
    "        for i in range(sys.getsizeof(path)-1):\n",
    "            plt.plot(X[i:i+2], Y[i:i+2], color=colors[i])\n",
    "\n",
    "        # plt.plot(*zip(*path), marker='o', color='red', label='Path')\n",
    "        # plt.scatter(*path[0], marker='o', color='green', label='Start')\n",
    "        # plt.scatter(*path[-1], marker='o', color='blue', label='Goal')\n",
    "\n",
    "        plt.legend()\n",
    "        plt.show()\n",
    "\n",
    "    def is_valid_move(self, row, col):\n",
    "        return (\n",
    "            0 <= row < self.rows\n",
    "            and 0 <= col < self.cols\n",
    "            and self.grid[row][col] != '#'\n",
    "            and self.grid[row][col] != 'F'\n",
    "        )\n",
    "\n",
    "    def get_adjacent_cells(self, row, col, algorithm=None):\n",
    "        directions = [(1, 0), (-1, 0), (0, 1), (0, -1)] #degrees of freedom - need to revise by prasnejit\n",
    "        adjacent_cells = [] # Return empty list of adjacent cells if all moves are invalid\n",
    "        for dr, dc in directions:\n",
    "            new_row, new_col = row + dr, col + dc\n",
    "            if self.is_valid_move(new_row, new_col):\n",
    "                if algorithm == \"greedy\" and self.display:\n",
    "                    print(\" The move is valid for this %d and %d\" % (new_row, new_col))\n",
    "                adjacent_cells.append(tuple((new_row, new_col)))\n",
    "        return adjacent_cells\n",
    "\n",
    "    def goal_reached(self, row, col):\n",
    "        return (row, col) == self.goal\n",
    "\n",
    "from abc import ABC, abstractmethod\n",
    "\n",
    "class ISearchAlgorithm(ABC):\n",
    "    def __init__(self, grid_env: GridEnvironment) -> None:\n",
    "        super().__init__()\n",
    "\n",
    "    @abstractmethod\n",
    "    def search(self):\n",
    "        pass\n",
    "\n",
    "    def heuristic(self, row: int, col: int):\n",
    "        pass\n",
    "\n",
    "    def time_and_space_complexity(self):\n",
    "      pass"
   ]
  },
  {
   "cell_type": "code",
   "execution_count": 17,
   "metadata": {
    "id": "HIVPhrRWF7sO"
   },
   "outputs": [],
   "source": [
    "# Code block : Write fucntion to handle goal test (Must handle dynamic inputs)\n",
    "# Ideally this would be called while search algorithms are implemented\n",
    "\n",
    "\"\"\"\n",
    "This function is a part of GridEnvironment class. It is placed\n",
    "here only to ensure that the insrtuctions of the assignment are\n",
    "followed as mentioned in the template document. Following code\n",
    "is not independent unit and hence is executed only through an\n",
    "instance of GridEnvironment class.\n",
    "\"\"\"\n",
    "def goal_reached(self, row, col):\n",
    "    return (row, col) == self.goal"
   ]
  },
  {
   "cell_type": "markdown",
   "metadata": {
    "id": "Z4QwDeX5F7sO"
   },
   "source": [
    "## 2.\tDefinition of Algorithm 1 (Greedy Best First Search)"
   ]
  },
  {
   "cell_type": "code",
   "execution_count": 18,
   "metadata": {
    "id": "zD_EPCHWF7sO"
   },
   "outputs": [],
   "source": [
    "#Code Block : Function for algorithm 1 implementation\n",
    "from heapq import heappush, heappop\n",
    "from collections import deque\n",
    "from typing import List, Tuple\n",
    "\n",
    "class GBFSearchAlgorithm(ISearchAlgorithm):\n",
    "    def __init__(self, grid_env: GridEnvironment) -> None:\n",
    "        super().__init__(grid_env=grid_env)\n",
    "        self.grid_env = grid_env\n",
    "\n",
    "    @track_time_and_space\n",
    "    def search(self) -> Tuple[List[Tuple[int, int]], int, int]:\n",
    "        start = self.grid_env.start\n",
    "        goal = self.grid_env.goal\n",
    "        visited = set()\n",
    "        pq = [(self.heuristic(*start), start)]\n",
    "        came_from = {}\n",
    "        cost_so_far = {start: 0}  # Store the cost of reaching each cell\n",
    "        self.total_nodes_expanded = 0\n",
    "\n",
    "        total_branching_factor = 0\n",
    "        depth_of_solution = 0\n",
    "        self.max_pq_size = 0\n",
    "        self.avg_branching_factor = 0\n",
    "        self.time_complexity = 0\n",
    "        self.space_complexity = 0\n",
    "\n",
    "        while pq:\n",
    "                print(\"Open List (Priority Queue):\", pq)\n",
    "                print(\"Closed List (Visited Set):\", visited)\n",
    "                self.max_pq_size = max(self.max_pq_size, len(pq))\n",
    "                priority, current = heappop(pq)  # Pop the item with lowest priority\n",
    "                if current == goal:\n",
    "                    # Reconstruct the path\n",
    "                    path = deque()\n",
    "                    total_cost = cost_so_far[current]\n",
    "                    while current != start:\n",
    "                        path.appendleft(current)\n",
    "                        current = came_from[current]\n",
    "                        depth_of_solution += 1  # Increment depth for each step towards the start node\n",
    "                    path.appendleft(start)\n",
    "                    break  # Exit the loop when the goal node is found\n",
    "\n",
    "                visited.add(current)\n",
    "                self.total_nodes_expanded += 1\n",
    "\n",
    "                successors = self.grid_env.get_adjacent_cells(*current, algorithm=\"greedy\")\n",
    "                total_branching_factor += len(successors)\n",
    "\n",
    "                for next_cell in successors:\n",
    "                    if next_cell in visited:  # Check if the cell has already been visited\n",
    "                        continue  # Skip to the next iteration if the cell has been visited\n",
    "\n",
    "                    new_cost = cost_so_far[current] + 1  # Assuming each step has a cost of 1\n",
    "                    if next_cell not in cost_so_far or new_cost < cost_so_far[next_cell]:\n",
    "                        cost_so_far[next_cell] = new_cost\n",
    "                        # print(\"Cost of next cell\", cost_so_far[next_cell])\n",
    "                        priority = new_cost + self.heuristic(*next_cell)\n",
    "                        print(\"Priority of next cell\", priority)\n",
    "                        heappush(pq, (priority, next_cell))  # Add the next cell to the priority queue\n",
    "                        came_from[next_cell] = current\n",
    "\n",
    "            # Store the depth of the optimal solution\n",
    "        self.depth_of_solution = depth_of_solution\n",
    "        self.avg_branching_factor = round(total_branching_factor / self.total_nodes_expanded)\n",
    "        print(\"Average Branching Factor:\", self.avg_branching_factor)\n",
    "        print(\"Depth of the graph search tree is:\", self.depth_of_solution)\n",
    "            # Optionally, you can return the path and total cost if needed\n",
    "        print(\"Total nodes expanded:\", self.total_nodes_expanded)\n",
    "        self.time_complexity, self.space_complexity = self.time_and_space_complexity()\n",
    "        print(\"Time Complexity of GBFS:\", self.time_complexity)\n",
    "        print(\"Worst case Space Complexity of GBFS:\", self.space_complexity)\n",
    "        return list(path), total_cost\n",
    "\n",
    "    def heuristic(self, row: int, col: int) -> int:\n",
    "        score = 0\n",
    "        for dr, dc in [(1, 0), (-1, 0), (0, 1), (0, -1)]:\n",
    "            new_row, new_col = row + dr, col + dc\n",
    "            if 0 <= new_row < self.grid_env.rows and 0 <= new_col < self.grid_env.cols:\n",
    "                if self.grid_env.grid[new_row][new_col] == '.':\n",
    "                    score += 5  # Add 5 points for adjacent safe places\n",
    "                elif self.grid_env.grid[new_row][new_col] == '#':\n",
    "                    score -= 5  # Deduct 5 points for adjacent water bodies\n",
    "                elif self.grid_env.grid[new_row][new_col] == 'F':\n",
    "                    score -= 3  # Deduct 3 points for flooded roads\n",
    "        return score\n",
    "\n",
    "    def time_and_space_complexity(self):\n",
    "        # Time complexity: O(b^d) | Space complexity: O(m)\n",
    "        return self.avg_branching_factor ** self.depth_of_solution, self.max_pq_size"
   ]
  },
  {
   "cell_type": "markdown",
   "metadata": {
    "id": "KnbdDl6HF7sO"
   },
   "source": [
    "## 3.\tDefinition of Algorithm 2 (Genetic Search Algorithm)"
   ]
  },
  {
   "cell_type": "code",
   "execution_count": 19,
   "metadata": {
    "id": "3HYh7-eJF7sP"
   },
   "outputs": [],
   "source": [
    "# Code Block : Function for algorithm 2 implementation\n",
    "\n",
    "class Individual(ABC):\n",
    "    def __init__(self, grid_env: GridEnvironment):\n",
    "        self.individual_type = \"Child\"  # Every individual is a child, until it is a parent\n",
    "        self.grid_env = grid_env\n",
    "        self.path = [tuple(grid_env.start)]\n",
    "        self.fitness = 0\n",
    "\n",
    "        current_pos = grid_env.start\n",
    "        while current_pos != grid_env.goal:\n",
    "            adjacent_cells = grid_env.get_adjacent_cells(*current_pos, algorithm=\"genetic\")\n",
    "            next_pos = random.choice(adjacent_cells)\n",
    "            self.path.append(next_pos)\n",
    "            current_pos = next_pos\n",
    "\n",
    "    def set_path(self, path: list):\n",
    "        self.path = path\n",
    "\n",
    "\n",
    "    def evaluate_fitness(self):\n",
    "        for pos in self.path:\n",
    "            row, col = pos\n",
    "            if self.grid_env.grid[row][col] == '.':\n",
    "                self.fitness += 5\n",
    "            elif self.grid_env.grid[row][col] == '#':\n",
    "                self.fitness -= 5\n",
    "            elif self.grid_env.grid[row][col] == 'F':\n",
    "                self.fitness -= 3\n",
    "\n",
    "    def mutate(self, mutation_rate: float):\n",
    "        for i in range(1, len(self.path) - 1):\n",
    "            if random.random() < mutation_rate:\n",
    "                adjacent_cells = self.grid_env.get_adjacent_cells(*self.path[i], algorithm=\"genetic\")\n",
    "                self.path[i] = random.choice(adjacent_cells)\n",
    "\n",
    "class GeneticSearchAlgorithm(ISearchAlgorithm):\n",
    "    def __init__(self, grid_env: GridEnvironment):\n",
    "        super().__init__(grid_env=grid_env)\n",
    "        self.grid_env = grid_env\n",
    "\n",
    "        self.population_size = 10\n",
    "        self.generations = 100\n",
    "        self.mutation_rate = 0.01\n",
    "\n",
    "        self.time_complexity = None\n",
    "        self.space_complexity = None\n",
    "\n",
    "    def crossover(self, parent1, parent2):\n",
    "        crossover_point = random.randint(1, min(len(parent1.path), len(parent2.path)) - 1)\n",
    "        # Single point crossover\n",
    "        child_path = parent1.path[:crossover_point] + parent2.path[crossover_point:]\n",
    "\n",
    "        child = Individual(self.grid_env)\n",
    "        child.set_path(child_path)\n",
    "\n",
    "        return child\n",
    "\n",
    "    @track_time_and_space\n",
    "    def search(self):\n",
    "        population = [Individual(self.grid_env) for _ in range(self.population_size)]\n",
    "        self.total_nodes_expanded = 0\n",
    "        for generation in range(self.generations):\n",
    "            for individual in population:\n",
    "                individual.evaluate_fitness()\n",
    "                self.total_nodes_expanded += 1\n",
    "\n",
    "            population.sort(key=lambda x: x.fitness, reverse=True)\n",
    "\n",
    "            if population[0].fitness == 40:  # Max possible fitness - to be revised later\n",
    "                break\n",
    "\n",
    "            next_generation = population[:2]  # Elitism\n",
    "            while len(next_generation) < self.population_size:\n",
    "                parent1 = random.choice(population[:self.population_size // 2])\n",
    "                parent2 = random.choice(population[:self.population_size // 2])\n",
    "                child = self.crossover(parent1, parent2)\n",
    "                child.mutate(self.mutation_rate)\n",
    "                next_generation.append(child)\n",
    "\n",
    "            population = next_generation\n",
    "        print(\"Memory Computation for Genetic Search is :\", self.total_nodes_expanded)\n",
    "        best_individual = population[0]\n",
    "        path = best_individual.path\n",
    "        cost = 0\n",
    "        for pos in path:\n",
    "            row, col = pos\n",
    "            if self.grid_env.grid[row][col] == '.':\n",
    "                cost += 5\n",
    "            elif self.grid_env.grid[row][col] == '#':\n",
    "                cost -= 5\n",
    "            elif self.grid_env.grid[row][col] == 'F':\n",
    "                cost -= 3\n",
    "\n",
    "        total_individuals = sum(len(individual.path) for individual in population)\n",
    "        average_individual_size = total_individuals / self.population_size\n",
    "\n",
    "        # Time complexity calculation: O(g * n * m)\n",
    "        self.time_complexity = self.generations * self.population_size * average_individual_size\n",
    "        print(\"Time Complexity of Genetic Search Algorithm:\", self.time_complexity)\n",
    "        self.space_complexity = self.population_size * len(population[0].path)\n",
    "        print(\"Space Complexity of Genetic Search Algorithm:\", self.space_complexity)\n",
    "\n",
    "        return path, cost\n",
    "\n",
    "    def time_and_space_complexity(self):\n",
    "      return self.time_complexity, self.space_complexity\n",
    "\n",
    "class SearchAlgorithmFactory:\n",
    "    @staticmethod\n",
    "    def create_search_algorithm(args, env: GridEnvironment):\n",
    "        display = True if \"-d\" in args or \"--display\" in args else False\n",
    "        if not env:\n",
    "            grid_gen = GridGenerator()\n",
    "            grid_gen.generate_grid()\n",
    "            env = GridEnvironment(grid_gen.grid, display)\n",
    "\n",
    "        if display:\n",
    "            pprint(env.grid) # Print the grid\n",
    "\n",
    "        gbfs = True if \"-b\" in args or \"--gbfs\" in args else False\n",
    "        genetic = True if \"-a\" in args or \"--genetic\" in args else False\n",
    "        if gbfs:\n",
    "            return GBFSearchAlgorithm(env)\n",
    "        elif genetic:\n",
    "            return GeneticSearchAlgorithm(env)\n",
    "        else:\n",
    "            print(\"Please select an algorithm to run. Use -h for help.\")\n",
    "            return"
   ]
  },
  {
   "cell_type": "markdown",
   "metadata": {
    "id": "LEV2XHccF7sP"
   },
   "source": [
    "## Dynamic Input"
   ]
  },
  {
   "cell_type": "markdown",
   "metadata": {
    "id": "CylYRo_DF7sP"
   },
   "source": [
    "IMPORTANT : Dynamic Input must be got in this section. Display the possible states to choose from:\n",
    "This is applicable for all the relevent problems as mentioned in the question."
   ]
  },
  {
   "cell_type": "code",
   "execution_count": 20,
   "metadata": {
    "id": "Q5t1Lc-wF7sP"
   },
   "outputs": [],
   "source": [
    "#Code Block : Function & call to get inputs (start/end state)\n",
    "def dynamic_grid_generator(rows, cols):\n",
    "    total_cells = rows * cols\n",
    "\n",
    "    # Ensure at least 1 'F' obstacle and 1 '#' obstacle\n",
    "    min_f_obstacles = 1\n",
    "    min_hash_obstacles = 1\n",
    "\n",
    "    # Calculate the maximum number of obstacles based on the total number of cells\n",
    "    max_f_obstacles = int(total_cells / 3)  # Maximum 1/3 of cells for 'F' obstacles\n",
    "    max_hash_obstacles = int(total_cells / 3)  # Maximum 1/3 of cells for '#' obstacles\n",
    "\n",
    "    # Randomly choose the number of 'F' and '#' obstacles within the specified range\n",
    "    num_f_obstacles = random.randint(min_f_obstacles, max_f_obstacles)\n",
    "    num_hash_obstacles = random.randint(min_hash_obstacles, max_hash_obstacles)\n",
    "\n",
    "    # Initialize grid with all safe places ('.')\n",
    "    grid = [['.' for _ in range(cols)] for _ in range(rows)]\n",
    "\n",
    "    # Place 'F' obstacles randomly\n",
    "    for _ in range(num_f_obstacles):\n",
    "        row, col = random.randint(0, rows - 1), random.randint(0, cols - 1)\n",
    "        grid[row][col] = 'F'\n",
    "\n",
    "    # Place '#' obstacles randomly\n",
    "    for _ in range(num_hash_obstacles):\n",
    "        row, col = random.randint(0, rows - 1), random.randint(0, cols - 1)\n",
    "        # Ensure the cell is not already occupied and not occupied by 'F' obstacle\n",
    "        while grid[row][col] != '.':\n",
    "            row, col = random.randint(0, rows - 1), random.randint(0, cols - 1)\n",
    "        grid[row][col] = '#'\n",
    "\n",
    "    # Place 'S' (start) position\n",
    "    start_row, start_col = random.randint(0, rows - 1), random.randint(0, cols - 1)\n",
    "    grid[start_row][start_col] = 'S'\n",
    "\n",
    "    # Place 'G' (goal) position\n",
    "    goal_row, goal_col = random.randint(0, rows - 1), random.randint(0, cols - 1)\n",
    "    while (goal_row, goal_col) == (start_row, start_col):\n",
    "        goal_row, goal_col = random.randint(0, rows - 1), random.randint(0, cols - 1)\n",
    "    grid[goal_row][goal_col] = 'G'\n",
    "\n",
    "    return grid"
   ]
  },
  {
   "cell_type": "markdown",
   "metadata": {
    "id": "xsfOP81lF7sP"
   },
   "source": [
    "## 4.\tCalling the search algorithms\n",
    "(For bidirectional search in below sections first part can be used as per Hint provided. Under second section other combinations as per Hint or your choice of 2 algorithms can be called .As an analyst suggest suitable approximation in the comparitive analysis section)"
   ]
  },
  {
   "cell_type": "code",
   "execution_count": 21,
   "metadata": {
    "colab": {
     "base_uri": "https://localhost:8080/"
    },
    "id": "Og5zI9thF7sP",
    "outputId": "74104cda-2728-4a9f-cc45-f0506d099caa"
   },
   "outputs": [
    {
     "name": "stdout",
     "output_type": "stream",
     "text": [
      "\n",
      "Enter the start position (row,col): 0,0\n",
      "\n",
      "Enter the goal position (row,col): 7,7\n",
      "\n",
      "Final grid with start and goal positions:\n",
      "S . . . # # . .\n",
      ". F F . . . . F\n",
      ". . . . . . . .\n",
      "# # . F . . . .\n",
      ". F . . . . # #\n",
      ". . . F . . . .\n",
      ". # # . . F . .\n",
      ". . . . . F . G\n",
      "Start (0, 0), Goal (7, 7):\n",
      "Open List (Priority Queue): [(10, (0, 0))]\n",
      "Closed List (Visited Set): set()\n",
      "Priority of next cell 3\n",
      "Priority of next cell 3\n",
      "Open List (Priority Queue): [(3, (0, 1)), (3, (1, 0))]\n",
      "Closed List (Visited Set): {(0, 0)}\n",
      "Priority of next cell 9\n",
      "Open List (Priority Queue): [(3, (1, 0)), (9, (0, 2))]\n",
      "Closed List (Visited Set): {(0, 1), (0, 0)}\n",
      "Priority of next cell 7\n",
      "Open List (Priority Queue): [(7, (2, 0)), (9, (0, 2))]\n",
      "Closed List (Visited Set): {(0, 1), (1, 0), (0, 0)}\n",
      "Priority of next cell 5\n",
      "Open List (Priority Queue): [(5, (2, 1)), (9, (0, 2))]\n",
      "Closed List (Visited Set): {(0, 1), (1, 0), (2, 0), (0, 0)}\n",
      "Priority of next cell 16\n",
      "Open List (Priority Queue): [(9, (0, 2)), (16, (2, 2))]\n",
      "Closed List (Visited Set): {(0, 1), (2, 1), (0, 0), (2, 0), (1, 0)}\n",
      "Priority of next cell 8\n",
      "Open List (Priority Queue): [(8, (0, 3)), (16, (2, 2))]\n",
      "Closed List (Visited Set): {(0, 1), (2, 1), (0, 0), (2, 0), (0, 2), (1, 0)}\n",
      "Priority of next cell 16\n",
      "Open List (Priority Queue): [(16, (1, 3)), (16, (2, 2))]\n",
      "Closed List (Visited Set): {(0, 1), (2, 1), (0, 0), (0, 3), (2, 0), (0, 2), (1, 0)}\n",
      "Priority of next cell 17\n",
      "Priority of next cell 15\n",
      "Open List (Priority Queue): [(15, (1, 4)), (17, (2, 3)), (16, (2, 2))]\n",
      "Closed List (Visited Set): {(0, 1), (2, 1), (0, 0), (0, 3), (2, 0), (0, 2), (1, 0), (1, 3)}\n",
      "Priority of next cell 26\n",
      "Priority of next cell 16\n",
      "Open List (Priority Queue): [(16, (1, 5)), (16, (2, 2)), (26, (2, 4)), (17, (2, 3))]\n",
      "Closed List (Visited Set): {(0, 1), (2, 1), (0, 0), (0, 3), (2, 0), (1, 4), (0, 2), (1, 0), (1, 3)}\n",
      "Priority of next cell 27\n",
      "Priority of next cell 19\n",
      "Open List (Priority Queue): [(16, (2, 2)), (17, (2, 3)), (26, (2, 4)), (27, (2, 5)), (19, (1, 6))]\n",
      "Closed List (Visited Set): {(0, 1), (2, 1), (0, 0), (1, 5), (0, 3), (2, 0), (1, 4), (0, 2), (1, 0), (1, 3)}\n",
      "Priority of next cell 7\n",
      "Open List (Priority Queue): [(7, (3, 2)), (17, (2, 3)), (26, (2, 4)), (27, (2, 5)), (19, (1, 6))]\n",
      "Closed List (Visited Set): {(0, 1), (2, 1), (0, 0), (1, 5), (0, 3), (2, 0), (1, 4), (0, 2), (2, 2), (1, 0), (1, 3)}\n",
      "Priority of next cell 18\n",
      "Open List (Priority Queue): [(17, (2, 3)), (18, (4, 2)), (26, (2, 4)), (27, (2, 5)), (19, (1, 6))]\n",
      "Closed List (Visited Set): {(0, 1), (2, 1), (0, 0), (1, 5), (0, 3), (2, 0), (1, 4), (0, 2), (2, 2), (1, 0), (3, 2), (1, 3)}\n",
      "Open List (Priority Queue): [(18, (4, 2)), (19, (1, 6)), (26, (2, 4)), (27, (2, 5))]\n",
      "Closed List (Visited Set): {(0, 1), (2, 1), (0, 0), (1, 5), (0, 3), (2, 0), (1, 4), (2, 3), (0, 2), (2, 2), (1, 0), (3, 2), (1, 3)}\n",
      "Priority of next cell 9\n",
      "Priority of next cell 11\n",
      "Open List (Priority Queue): [(9, (5, 2)), (11, (4, 3)), (26, (2, 4)), (27, (2, 5)), (19, (1, 6))]\n",
      "Closed List (Visited Set): {(0, 1), (2, 1), (0, 0), (1, 5), (0, 3), (2, 0), (1, 4), (4, 2), (2, 3), (0, 2), (2, 2), (1, 0), (3, 2), (1, 3)}\n",
      "Priority of next cell 10\n",
      "Open List (Priority Queue): [(10, (5, 1)), (11, (4, 3)), (26, (2, 4)), (27, (2, 5)), (19, (1, 6))]\n",
      "Closed List (Visited Set): {(0, 1), (2, 1), (0, 0), (1, 5), (0, 3), (2, 0), (1, 4), (4, 2), (2, 3), (0, 2), (2, 2), (1, 0), (3, 2), (1, 3), (5, 2)}\n",
      "Priority of next cell 24\n",
      "Open List (Priority Queue): [(11, (4, 3)), (19, (1, 6)), (26, (2, 4)), (27, (2, 5)), (24, (5, 0))]\n",
      "Closed List (Visited Set): {(0, 1), (2, 1), (0, 0), (1, 5), (0, 3), (2, 0), (5, 1), (1, 4), (4, 2), (2, 3), (0, 2), (2, 2), (1, 0), (3, 2), (1, 3), (5, 2)}\n",
      "Priority of next cell 28\n",
      "Open List (Priority Queue): [(19, (1, 6)), (24, (5, 0)), (26, (2, 4)), (27, (2, 5)), (28, (4, 4))]\n",
      "Closed List (Visited Set): {(0, 1), (2, 1), (0, 0), (1, 5), (4, 3), (0, 3), (2, 0), (5, 1), (1, 4), (4, 2), (2, 3), (0, 2), (2, 2), (1, 0), (3, 2), (1, 3), (5, 2)}\n",
      "Priority of next cell 28\n",
      "Priority of next cell 13\n",
      "Open List (Priority Queue): [(13, (0, 6)), (27, (2, 5)), (24, (5, 0)), (28, (4, 4)), (28, (2, 6)), (26, (2, 4))]\n",
      "Closed List (Visited Set): {(0, 1), (2, 1), (0, 0), (1, 5), (4, 3), (0, 3), (2, 0), (5, 1), (1, 4), (4, 2), (2, 3), (0, 2), (2, 2), (1, 0), (1, 6), (3, 2), (1, 3), (5, 2)}\n",
      "Priority of next cell 11\n",
      "Open List (Priority Queue): [(11, (0, 7)), (27, (2, 5)), (24, (5, 0)), (28, (4, 4)), (28, (2, 6)), (26, (2, 4))]\n",
      "Closed List (Visited Set): {(4, 3), (5, 1), (0, 2), (2, 2), (1, 0), (1, 6), (1, 3), (4, 2), (0, 1), (2, 1), (1, 5), (3, 2), (5, 2), (0, 0), (0, 3), (2, 0), (1, 4), (0, 6), (2, 3)}\n",
      "Open List (Priority Queue): [(24, (5, 0)), (27, (2, 5)), (26, (2, 4)), (28, (4, 4)), (28, (2, 6))]\n",
      "Closed List (Visited Set): {(4, 3), (5, 1), (0, 2), (2, 2), (1, 0), (1, 6), (1, 3), (4, 2), (0, 1), (0, 7), (2, 1), (1, 5), (3, 2), (5, 2), (0, 0), (0, 3), (2, 0), (1, 4), (0, 6), (2, 3)}\n",
      "Priority of next cell 15\n",
      "Priority of next cell 7\n",
      "Open List (Priority Queue): [(7, (4, 0)), (26, (2, 4)), (15, (6, 0)), (28, (4, 4)), (27, (2, 5)), (28, (2, 6))]\n",
      "Closed List (Visited Set): {(4, 3), (5, 1), (0, 2), (2, 2), (1, 0), (1, 6), (1, 3), (4, 2), (5, 0), (0, 1), (0, 7), (2, 1), (1, 5), (3, 2), (5, 2), (0, 0), (0, 3), (2, 0), (1, 4), (0, 6), (2, 3)}\n",
      "Open List (Priority Queue): [(15, (6, 0)), (26, (2, 4)), (28, (2, 6)), (28, (4, 4)), (27, (2, 5))]\n",
      "Closed List (Visited Set): {(4, 0), (4, 3), (5, 1), (0, 2), (2, 2), (1, 0), (1, 6), (1, 3), (4, 2), (5, 0), (0, 1), (0, 7), (2, 1), (1, 5), (3, 2), (5, 2), (0, 0), (0, 3), (2, 0), (1, 4), (0, 6), (2, 3)}\n",
      "Priority of next cell 21\n",
      "Open List (Priority Queue): [(21, (7, 0)), (26, (2, 4)), (28, (2, 6)), (28, (4, 4)), (27, (2, 5))]\n",
      "Closed List (Visited Set): {(4, 0), (4, 3), (5, 1), (0, 2), (2, 2), (1, 0), (1, 6), (1, 3), (4, 2), (5, 0), (0, 1), (0, 7), (2, 1), (1, 5), (3, 2), (5, 2), (0, 0), (0, 3), (2, 0), (1, 4), (0, 6), (2, 3), (6, 0)}\n",
      "Priority of next cell 17\n",
      "Open List (Priority Queue): [(17, (7, 1)), (26, (2, 4)), (28, (2, 6)), (28, (4, 4)), (27, (2, 5))]\n",
      "Closed List (Visited Set): {(4, 0), (4, 3), (5, 1), (0, 2), (2, 2), (1, 0), (1, 6), (1, 3), (4, 2), (5, 0), (0, 1), (0, 7), (2, 1), (1, 5), (7, 0), (3, 2), (5, 2), (0, 0), (0, 3), (2, 0), (1, 4), (0, 6), (2, 3), (6, 0)}\n",
      "Priority of next cell 18\n",
      "Open List (Priority Queue): [(18, (7, 2)), (26, (2, 4)), (28, (2, 6)), (28, (4, 4)), (27, (2, 5))]\n",
      "Closed List (Visited Set): {(4, 0), (4, 3), (5, 1), (0, 2), (2, 2), (1, 0), (1, 6), (1, 3), (7, 1), (4, 2), (5, 0), (0, 1), (0, 7), (2, 1), (1, 5), (7, 0), (3, 2), (5, 2), (0, 0), (0, 3), (2, 0), (1, 4), (0, 6), (2, 3), (6, 0)}\n",
      "Priority of next cell 29\n",
      "Open List (Priority Queue): [(26, (2, 4)), (27, (2, 5)), (28, (2, 6)), (28, (4, 4)), (29, (7, 3))]\n",
      "Closed List (Visited Set): {(4, 0), (4, 3), (5, 1), (0, 2), (2, 2), (1, 0), (1, 6), (1, 3), (7, 1), (4, 2), (5, 0), (0, 1), (0, 7), (2, 1), (1, 5), (7, 0), (3, 2), (5, 2), (0, 0), (0, 3), (2, 0), (1, 4), (0, 6), (2, 3), (7, 2), (6, 0)}\n",
      "Priority of next cell 19\n",
      "Open List (Priority Queue): [(19, (3, 4)), (27, (2, 5)), (28, (2, 6)), (29, (7, 3)), (28, (4, 4))]\n",
      "Closed List (Visited Set): {(4, 0), (4, 3), (5, 1), (0, 2), (2, 2), (1, 0), (1, 6), (1, 3), (7, 1), (4, 2), (5, 0), (0, 1), (0, 7), (2, 4), (2, 1), (1, 5), (7, 0), (3, 2), (5, 2), (0, 0), (0, 3), (2, 0), (1, 4), (0, 6), (2, 3), (7, 2), (6, 0)}\n",
      "Priority of next cell 28\n",
      "Open List (Priority Queue): [(27, (2, 5)), (28, (3, 5)), (28, (2, 6)), (29, (7, 3)), (28, (4, 4))]\n",
      "Closed List (Visited Set): {(4, 0), (3, 4), (4, 3), (5, 1), (0, 2), (2, 2), (1, 0), (1, 6), (1, 3), (7, 1), (4, 2), (5, 0), (0, 1), (0, 7), (2, 4), (2, 1), (1, 5), (7, 0), (3, 2), (5, 2), (0, 0), (0, 3), (2, 0), (1, 4), (0, 6), (2, 3), (7, 2), (6, 0)}\n",
      "Open List (Priority Queue): [(28, (2, 6)), (28, (3, 5)), (28, (4, 4)), (29, (7, 3))]\n",
      "Closed List (Visited Set): {(4, 0), (3, 4), (4, 3), (5, 1), (0, 2), (2, 2), (1, 0), (1, 6), (2, 5), (1, 3), (7, 1), (4, 2), (5, 0), (0, 1), (0, 7), (2, 4), (2, 1), (1, 5), (7, 0), (3, 2), (5, 2), (0, 0), (0, 3), (2, 0), (1, 4), (0, 6), (2, 3), (7, 2), (6, 0)}\n",
      "Priority of next cell 19\n",
      "Priority of next cell 16\n",
      "Open List (Priority Queue): [(16, (2, 7)), (19, (3, 6)), (28, (4, 4)), (29, (7, 3)), (28, (3, 5))]\n",
      "Closed List (Visited Set): {(4, 0), (3, 4), (4, 3), (5, 1), (0, 2), (2, 2), (1, 0), (1, 6), (2, 5), (1, 3), (7, 1), (4, 2), (5, 0), (0, 1), (0, 7), (2, 4), (2, 1), (1, 5), (7, 0), (3, 2), (5, 2), (0, 0), (0, 3), (2, 0), (1, 4), (0, 6), (2, 3), (2, 6), (7, 2), (6, 0)}\n",
      "Priority of next cell 15\n",
      "Open List (Priority Queue): [(15, (3, 7)), (19, (3, 6)), (28, (4, 4)), (29, (7, 3)), (28, (3, 5))]\n",
      "Closed List (Visited Set): {(4, 0), (3, 4), (4, 3), (5, 1), (0, 2), (2, 2), (1, 0), (1, 6), (2, 5), (1, 3), (7, 1), (4, 2), (5, 0), (0, 1), (0, 7), (2, 4), (2, 1), (2, 7), (1, 5), (7, 0), (3, 2), (5, 2), (0, 0), (0, 3), (2, 0), (1, 4), (0, 6), (2, 3), (2, 6), (7, 2), (6, 0)}\n",
      "Open List (Priority Queue): [(19, (3, 6)), (28, (3, 5)), (28, (4, 4)), (29, (7, 3))]\n",
      "Closed List (Visited Set): {(4, 0), (3, 4), (4, 3), (3, 7), (5, 1), (0, 2), (2, 2), (1, 0), (1, 6), (2, 5), (1, 3), (7, 1), (4, 2), (5, 0), (0, 1), (0, 7), (2, 4), (2, 1), (2, 7), (1, 5), (7, 0), (3, 2), (5, 2), (0, 0), (0, 3), (2, 0), (1, 4), (0, 6), (2, 3), (2, 6), (7, 2), (6, 0)}\n",
      "Open List (Priority Queue): [(28, (3, 5)), (29, (7, 3)), (28, (4, 4))]\n",
      "Closed List (Visited Set): {(4, 0), (3, 4), (4, 3), (3, 7), (5, 1), (0, 2), (2, 2), (1, 0), (1, 6), (2, 5), (1, 3), (7, 1), (4, 2), (5, 0), (3, 6), (0, 1), (0, 7), (2, 4), (2, 1), (2, 7), (1, 5), (7, 0), (3, 2), (5, 2), (0, 0), (0, 3), (2, 0), (1, 4), (0, 6), (2, 3), (2, 6), (7, 2), (6, 0)}\n",
      "Priority of next cell 19\n",
      "Open List (Priority Queue): [(19, (4, 5)), (29, (7, 3)), (28, (4, 4))]\n",
      "Closed List (Visited Set): {(4, 0), (3, 4), (4, 3), (3, 7), (5, 1), (0, 2), (2, 2), (1, 0), (1, 6), (2, 5), (1, 3), (7, 1), (4, 2), (5, 0), (3, 6), (0, 1), (0, 7), (2, 4), (2, 1), (2, 7), (1, 5), (7, 0), (3, 2), (3, 5), (5, 2), (0, 0), (0, 3), (2, 0), (1, 4), (0, 6), (2, 3), (2, 6), (7, 2), (6, 0)}\n",
      "Priority of next cell 22\n",
      "Open List (Priority Queue): [(22, (5, 5)), (29, (7, 3)), (28, (4, 4))]\n",
      "Closed List (Visited Set): {(4, 0), (3, 4), (4, 3), (3, 7), (5, 1), (0, 2), (2, 2), (1, 0), (1, 6), (2, 5), (1, 3), (7, 1), (4, 2), (4, 5), (5, 0), (3, 6), (0, 1), (0, 7), (2, 4), (2, 1), (2, 7), (1, 5), (7, 0), (3, 2), (3, 5), (5, 2), (0, 0), (0, 3), (2, 0), (1, 4), (0, 6), (2, 3), (2, 6), (7, 2), (6, 0)}\n",
      "Priority of next cell 21\n",
      "Priority of next cell 23\n",
      "Open List (Priority Queue): [(21, (5, 6)), (23, (5, 4)), (28, (4, 4)), (29, (7, 3))]\n",
      "Closed List (Visited Set): {(4, 0), (3, 4), (4, 3), (3, 7), (5, 1), (0, 2), (2, 2), (1, 0), (1, 6), (2, 5), (1, 3), (7, 1), (4, 2), (4, 5), (5, 0), (3, 6), (0, 1), (0, 7), (2, 4), (2, 1), (2, 7), (1, 5), (7, 0), (3, 2), (3, 5), (5, 2), (5, 5), (0, 0), (0, 3), (2, 0), (1, 4), (0, 6), (2, 3), (2, 6), (7, 2), (6, 0)}\n",
      "Priority of next cell 24\n",
      "Priority of next cell 17\n",
      "Open List (Priority Queue): [(17, (5, 7)), (23, (5, 4)), (28, (4, 4)), (29, (7, 3)), (24, (6, 6))]\n",
      "Closed List (Visited Set): {(4, 0), (3, 4), (4, 3), (3, 7), (5, 1), (0, 2), (2, 2), (1, 0), (1, 6), (2, 5), (1, 3), (7, 1), (4, 2), (4, 5), (5, 0), (5, 6), (3, 6), (0, 1), (0, 7), (2, 4), (2, 1), (2, 7), (1, 5), (7, 0), (3, 2), (3, 5), (5, 2), (5, 5), (0, 0), (0, 3), (2, 0), (1, 4), (0, 6), (2, 3), (2, 6), (7, 2), (6, 0)}\n",
      "Priority of next cell 23\n",
      "Open List (Priority Queue): [(23, (5, 4)), (23, (6, 7)), (28, (4, 4)), (29, (7, 3)), (24, (6, 6))]\n",
      "Closed List (Visited Set): {(4, 0), (3, 4), (4, 3), (3, 7), (5, 1), (5, 7), (0, 2), (2, 2), (1, 0), (1, 6), (2, 5), (1, 3), (7, 1), (4, 2), (4, 5), (5, 0), (5, 6), (3, 6), (0, 1), (0, 7), (2, 4), (2, 1), (2, 7), (1, 5), (7, 0), (3, 2), (3, 5), (5, 2), (5, 5), (0, 0), (0, 3), (2, 0), (1, 4), (0, 6), (2, 3), (2, 6), (7, 2), (6, 0)}\n",
      "Priority of next cell 24\n",
      "Open List (Priority Queue): [(23, (6, 7)), (24, (6, 4)), (28, (4, 4)), (29, (7, 3)), (24, (6, 6))]\n",
      "Closed List (Visited Set): {(4, 0), (3, 4), (4, 3), (3, 7), (5, 4), (5, 1), (5, 7), (0, 2), (2, 2), (1, 0), (1, 6), (2, 5), (1, 3), (7, 1), (4, 2), (4, 5), (5, 0), (5, 6), (3, 6), (0, 1), (0, 7), (2, 4), (2, 1), (2, 7), (1, 5), (7, 0), (3, 2), (3, 5), (5, 2), (5, 5), (0, 0), (0, 3), (2, 0), (1, 4), (0, 6), (2, 3), (2, 6), (7, 2), (6, 0)}\n",
      "Priority of next cell 24\n",
      "Open List (Priority Queue): [(24, (6, 4)), (24, (6, 6)), (28, (4, 4)), (29, (7, 3)), (24, (7, 7))]\n",
      "Closed List (Visited Set): {(4, 0), (3, 4), (4, 3), (3, 7), (5, 4), (5, 1), (5, 7), (0, 2), (2, 2), (1, 0), (1, 6), (2, 5), (1, 3), (7, 1), (4, 2), (4, 5), (5, 0), (5, 6), (3, 6), (0, 1), (0, 7), (2, 4), (2, 1), (2, 7), (1, 5), (7, 0), (6, 7), (3, 2), (3, 5), (5, 2), (5, 5), (0, 0), (0, 3), (2, 0), (1, 4), (0, 6), (2, 3), (2, 6), (7, 2), (6, 0)}\n",
      "Priority of next cell 20\n",
      "Priority of next cell 15\n",
      "Open List (Priority Queue): [(15, (6, 3)), (24, (6, 6)), (20, (7, 4)), (29, (7, 3)), (24, (7, 7)), (28, (4, 4))]\n",
      "Closed List (Visited Set): {(4, 0), (3, 4), (4, 3), (3, 7), (5, 4), (5, 1), (5, 7), (0, 2), (2, 2), (1, 0), (1, 6), (2, 5), (1, 3), (7, 1), (4, 2), (4, 5), (5, 0), (5, 6), (3, 6), (0, 1), (0, 7), (2, 4), (2, 1), (2, 7), (1, 5), (7, 0), (6, 4), (6, 7), (3, 2), (3, 5), (5, 2), (5, 5), (0, 0), (0, 3), (2, 0), (1, 4), (0, 6), (2, 3), (2, 6), (7, 2), (6, 0)}\n",
      "Open List (Priority Queue): [(20, (7, 4)), (24, (6, 6)), (28, (4, 4)), (29, (7, 3)), (24, (7, 7))]\n",
      "Closed List (Visited Set): {(4, 0), (3, 4), (4, 3), (3, 7), (5, 4), (5, 1), (5, 7), (0, 2), (2, 2), (1, 0), (1, 6), (2, 5), (1, 3), (7, 1), (4, 2), (4, 5), (5, 0), (5, 6), (3, 6), (0, 1), (0, 7), (2, 4), (2, 1), (2, 7), (1, 5), (7, 0), (6, 4), (6, 7), (3, 2), (3, 5), (5, 2), (5, 5), (0, 0), (0, 3), (2, 0), (1, 4), (0, 6), (2, 3), (2, 6), (7, 2), (6, 0), (6, 3)}\n",
      "Open List (Priority Queue): [(24, (6, 6)), (24, (7, 7)), (28, (4, 4)), (29, (7, 3))]\n",
      "Closed List (Visited Set): {(4, 0), (3, 4), (4, 3), (3, 7), (5, 4), (5, 1), (5, 7), (0, 2), (2, 2), (1, 0), (1, 6), (2, 5), (1, 3), (7, 4), (7, 1), (4, 2), (4, 5), (5, 0), (5, 6), (3, 6), (0, 1), (0, 7), (2, 4), (2, 1), (2, 7), (1, 5), (7, 0), (6, 4), (6, 7), (3, 2), (3, 5), (5, 2), (5, 5), (0, 0), (0, 3), (2, 0), (1, 4), (0, 6), (2, 3), (2, 6), (7, 2), (6, 0), (6, 3)}\n",
      "Priority of next cell 15\n",
      "Open List (Priority Queue): [(15, (7, 6)), (24, (7, 7)), (28, (4, 4)), (29, (7, 3))]\n",
      "Closed List (Visited Set): {(4, 0), (3, 4), (4, 3), (3, 7), (5, 4), (5, 1), (5, 7), (0, 2), (2, 2), (1, 0), (1, 6), (2, 5), (1, 3), (7, 4), (7, 1), (4, 2), (4, 5), (5, 0), (5, 6), (3, 6), (0, 1), (0, 7), (2, 4), (2, 1), (2, 7), (1, 5), (7, 0), (6, 4), (6, 7), (3, 2), (3, 5), (5, 2), (5, 5), (0, 0), (0, 3), (2, 0), (1, 4), (0, 6), (2, 3), (2, 6), (7, 2), (6, 0), (6, 6), (6, 3)}\n",
      "Open List (Priority Queue): [(24, (7, 7)), (29, (7, 3)), (28, (4, 4))]\n",
      "Closed List (Visited Set): {(4, 0), (3, 4), (4, 3), (3, 7), (5, 4), (5, 1), (5, 7), (0, 2), (2, 2), (1, 0), (1, 6), (2, 5), (1, 3), (7, 4), (7, 1), (4, 2), (4, 5), (5, 0), (5, 6), (3, 6), (0, 1), (0, 7), (2, 4), (2, 1), (2, 7), (1, 5), (7, 0), (6, 4), (6, 7), (7, 6), (3, 2), (3, 5), (5, 2), (5, 5), (0, 0), (0, 3), (2, 0), (1, 4), (0, 6), (2, 3), (2, 6), (7, 2), (6, 0), (6, 6), (6, 3)}\n",
      "Average Branching Factor: 3\n",
      "Depth of the graph search tree is: 14\n",
      "Total nodes expanded: 45\n",
      "Time Complexity of GBFS: 4782969\n",
      "Worst case Space Complexity of GBFS: 6\n",
      "Windows 34680832 34758656\n",
      "Execution time: 0.09894824028015137 seconds\n",
      "Memory usage: 76.0 KB\n",
      "Path taken by the agent using Greedy Best First Search: [(0, 0), (0, 1), (0, 2), (0, 3), (1, 3), (1, 4), (2, 4), (3, 4), (3, 5), (4, 5), (5, 5), (5, 6), (5, 7), (6, 7), (7, 7)]\n",
      "Total path cost using Greedy Best First Search: 14\n",
      "Total Memory Usage Greedy Best First Search: 45\n"
     ]
    }
   ],
   "source": [
    "#Invoke algorithm 1 (Should Print the solution, path, cost etc., (As mentioned in the problem))\n",
    "from datetime import datetime\n",
    "\n",
    "args = []\n",
    "dt_now = datetime.now()\n",
    "args.append(\"-b\")\n",
    "\n",
    "gbfs = SearchAlgorithmFactory.create_search_algorithm(args, None)\n",
    "gbfs_results, gbfs_etime, gbfs_emem = gbfs.search()\n",
    "gbfs_path = gbfs_results[0]\n",
    "gbfs_cost = gbfs_results[1]\n",
    "\n",
    "print(\"Path taken by the agent using Greedy Best First Search:\", gbfs_path)\n",
    "print(\"Total path cost using Greedy Best First Search:\", gbfs_cost)\n",
    "print(\"Total Memory Usage Greedy Best First Search:\", gbfs.total_nodes_expanded)"
   ]
  },
  {
   "cell_type": "code",
   "execution_count": 23,
   "metadata": {
    "colab": {
     "base_uri": "https://localhost:8080/",
     "height": 519
    },
    "id": "7L-lLoKECnUm",
    "outputId": "009a8a49-03da-40f5-8b37-45bccb7c5d4a"
   },
   "outputs": [
    {
     "name": "stderr",
     "output_type": "stream",
     "text": [
      "No artists with labels found to put in legend.  Note that artists whose label start with an underscore are ignored when legend() is called with no argument.\n"
     ]
    },
    {
     "data": {
      "image/png": "[encoded data removed]",
      "text/plain": [
       "<Figure size 640x480 with 1 Axes>"
      ]
     },
     "metadata": {},
     "output_type": "display_data"
    },
    {
     "ename": "ValueError",
     "evalue": "list.remove(x): x not in list",
     "output_type": "error",
     "traceback": [
      "\u001b[1;31m---------------------------------------------------------------------------\u001b[0m",
      "\u001b[1;31mValueError\u001b[0m                                Traceback (most recent call last)",
      "Cell \u001b[1;32mIn[23], line 2\u001b[0m\n\u001b[0;32m      1\u001b[0m gbfs\u001b[38;5;241m.\u001b[39mgrid_env\u001b[38;5;241m.\u001b[39mvisualize(gbfs_path)\n\u001b[1;32m----> 2\u001b[0m args\u001b[38;5;241m.\u001b[39mremove(\u001b[38;5;124m\"\u001b[39m\u001b[38;5;124m-b\u001b[39m\u001b[38;5;124m\"\u001b[39m)\n",
      "\u001b[1;31mValueError\u001b[0m: list.remove(x): x not in list"
     ]
    }
   ],
   "source": [
    "gbfs.grid_env.visualize(gbfs_path)\n",
    "args.remove(\"-b\")"
   ]
  },
  {
   "cell_type": "code",
   "execution_count": 24,
   "metadata": {
    "colab": {
     "base_uri": "https://localhost:8080/"
    },
    "id": "u3MJeA6eF7sP",
    "outputId": "c9949b2f-836d-4ec2-bd7a-69bb59420905"
   },
   "outputs": [
    {
     "name": "stdout",
     "output_type": "stream",
     "text": [
      "Memory Computation for Genetic Search is : 1000\n",
      "Time Complexity of Genetic Search Algorithm: 962600.0\n",
      "Space Complexity of Genetic Search Algorithm: 10250\n",
      "Windows 86941696 87334912\n",
      "Execution time: 4.780738592147827 seconds\n",
      "Memory usage: 384.0 KB\n",
      "Path taken by the agent using Genetic Search Algorithm: [(0, 0), (0, 1), (0, 2), (0, 1), (0, 0), (1, 0), (0, 0), (0, 1), (0, 2), (0, 1), (0, 2), (0, 1), (0, 2), (0, 1), (0, 0), (1, 0), (2, 0), (1, 0), (2, 0), (2, 1), (2, 0), (1, 0), (0, 0), (1, 0), (2, 0), (2, 1), (2, 2), (2, 3), (2, 2), (3, 2), (4, 2), (5, 2), (5, 1), (5, 0), (4, 0), (5, 0), (6, 0), (5, 0), (4, 0), (5, 0), (6, 0), (7, 0), (6, 0), (5, 0), (6, 0), (7, 0), (7, 1), (7, 0), (7, 1), (7, 0), (6, 0), (5, 0), (6, 0), (7, 0), (6, 0), (5, 0), (5, 1), (5, 0), (4, 0), (5, 0), (4, 0), (5, 0), (5, 1), (5, 0), (4, 0), (5, 0), (6, 0), (7, 0), (6, 0), (5, 0), (6, 0), (7, 0), (6, 0), (7, 0), (6, 0), (7, 0), (6, 0), (7, 0), (7, 1), (7, 2), (7, 1), (7, 2), (7, 3), (7, 2), (7, 3), (7, 2), (7, 3), (6, 3), (6, 4), (7, 4), (6, 4), (7, 4), (6, 4), (5, 4), (5, 5), (4, 5), (5, 5), (4, 5), (3, 5), (3, 6), (3, 5), (2, 5), (2, 4), (2, 5), (2, 4), (1, 4), (2, 4), (2, 3), (1, 3), (0, 3), (0, 2), (0, 1), (0, 2), (0, 3), (0, 2), (0, 1), (0, 0), (1, 0), (2, 0), (1, 0), (0, 0), (1, 0), (2, 0), (2, 1), (2, 0), (2, 1), (2, 2), (3, 2), (4, 2), (5, 2), (5, 1), (5, 0), (4, 0), (5, 0), (4, 0), (5, 0), (6, 0), (7, 0), (6, 0), (7, 0), (7, 1), (7, 2), (7, 3), (6, 3), (6, 4), (5, 4), (5, 5), (5, 4), (5, 5), (5, 6), (5, 5), (4, 5), (3, 5), (4, 5), (5, 5), (5, 4), (6, 4), (5, 4), (4, 4), (4, 3), (4, 4), (4, 5), (4, 4), (4, 3), (4, 2), (5, 2), (5, 1), (5, 0), (5, 1), (5, 2), (4, 2), (4, 3), (4, 4), (4, 3), (4, 4), (3, 4), (4, 4), (3, 4), (2, 4), (2, 5), (1, 5), (1, 6), (0, 6), (0, 7), (0, 6), (0, 7), (0, 6), (1, 6), (2, 6), (3, 6), (3, 5), (3, 6), (3, 5), (2, 5), (3, 5), (3, 4), (3, 5), (3, 4), (2, 4), (1, 4), (1, 3), (2, 3), (1, 3), (1, 4), (2, 4), (3, 4), (4, 4), (4, 5), (3, 5), (3, 6), (3, 7), (3, 6), (2, 6), (1, 6), (0, 6), (1, 6), (2, 6), (1, 6), (0, 6), (1, 6), (2, 6), (1, 6), (1, 5), (1, 4), (2, 4), (2, 5), (3, 5), (2, 5), (1, 5), (1, 6), (2, 6), (2, 5), (2, 6), (3, 6), (3, 5), (2, 5), (1, 5), (2, 5), (2, 6), (3, 6), (2, 6), (1, 6), (2, 6), (3, 6), (3, 5), (3, 6), (3, 5), (3, 6), (2, 6), (1, 6), (2, 6), (2, 7), (2, 6), (3, 6), (3, 5), (4, 5), (4, 4), (4, 3), (4, 4), (4, 5), (3, 5), (4, 5), (4, 4), (3, 4), (3, 5), (3, 4), (3, 5), (3, 4), (2, 4), (2, 3), (1, 3), (2, 3), (2, 2), (2, 3), (2, 4), (2, 3), (1, 3), (1, 4), (2, 4), (3, 4), (3, 5), (3, 4), (2, 4), (1, 4), (2, 4), (3, 4), (2, 4), (2, 5), (2, 4), (1, 4), (1, 5), (2, 5), (2, 6), (2, 5), (3, 5), (3, 6), (2, 6), (1, 6), (2, 6), (2, 7), (2, 6), (2, 5), (2, 6), (2, 7), (2, 6), (2, 7), (3, 7), (2, 7), (3, 7), (2, 7), (2, 6), (2, 7), (2, 6), (2, 5), (2, 4), (2, 3), (1, 3), (2, 3), (2, 2), (3, 2), (2, 2), (2, 3), (2, 2), (3, 2), (4, 2), (5, 2), (5, 1), (5, 0), (6, 0), (7, 0), (7, 1), (7, 2), (7, 1), (7, 2), (7, 1), (7, 2), (7, 3), (7, 2), (7, 3), (6, 3), (7, 3), (6, 3), (6, 4), (7, 4), (7, 3), (7, 2), (7, 3), (7, 4), (7, 3), (6, 3), (7, 3), (6, 3), (6, 4), (5, 4), (5, 5), (5, 4), (4, 4), (4, 5), (4, 4), (3, 4), (2, 4), (3, 4), (3, 5), (3, 6), (3, 7), (2, 7), (3, 7), (3, 6), (3, 7), (2, 7), (3, 7), (2, 7), (2, 6), (1, 6), (1, 5), (2, 5), (2, 4), (1, 4), (2, 4), (2, 3), (2, 2), (2, 1), (2, 0), (1, 0), (2, 0), (1, 0), (0, 0), (1, 0), (2, 0), (2, 1), (2, 2), (2, 1), (2, 2), (3, 2), (2, 2), (2, 3), (2, 4), (1, 4), (1, 3), (2, 3), (1, 3), (2, 3), (1, 3), (2, 3), (1, 3), (1, 4), (1, 3), (2, 3), (2, 4), (2, 3), (2, 4), (3, 4), (3, 5), (3, 4), (2, 4), (2, 5), (2, 4), (2, 3), (1, 3), (1, 4), (1, 3), (2, 3), (2, 4), (2, 3), (2, 4), (3, 4), (3, 5), (2, 5), (2, 4), (2, 3), (1, 3), (0, 3), (1, 3), (1, 4), (2, 4), (2, 5), (3, 5), (4, 5), (5, 5), (5, 4), (4, 4), (3, 4), (2, 4), (3, 4), (3, 5), (4, 5), (3, 5), (2, 5), (1, 5), (1, 6), (1, 5), (1, 4), (2, 4), (2, 3), (2, 2), (3, 2), (2, 2), (3, 2), (2, 2), (2, 3), (1, 3), (2, 3), (2, 2), (3, 2), (4, 2), (5, 2), (4, 2), (4, 3), (4, 2), (4, 3), (4, 4), (3, 4), (3, 5), (3, 6), (3, 5), (2, 5), (2, 4), (1, 4), (1, 3), (2, 3), (1, 3), (2, 3), (2, 4), (3, 4), (2, 4), (2, 3), (2, 2), (2, 1), (2, 0), (2, 1), (2, 0), (1, 0), (0, 0), (1, 0), (2, 0), (2, 1), (2, 2), (2, 3), (2, 2), (3, 2), (2, 2), (2, 1), (2, 0), (2, 1), (2, 2), (2, 1), (2, 2), (3, 2), (2, 2), (3, 2), (2, 2), (2, 3), (2, 4), (1, 4), (1, 5), (2, 5), (2, 4), (2, 3), (1, 3), (1, 4), (1, 3), (0, 3), (1, 3), (2, 3), (2, 2), (2, 1), (2, 2), (2, 3), (2, 4), (2, 5), (2, 6), (1, 6), (0, 6), (0, 7), (0, 6), (0, 7), (0, 6), (1, 6), (1, 5), (1, 4), (1, 3), (0, 3), (1, 3), (2, 3), (2, 4), (2, 5), (1, 5), (2, 5), (2, 4), (3, 4), (2, 4), (2, 5), (2, 4), (3, 4), (2, 4), (1, 4), (2, 4), (3, 4), (4, 4), (5, 4), (4, 4), (4, 5), (4, 4), (3, 4), (3, 5), (2, 5), (2, 4), (2, 3), (2, 2), (3, 2), (4, 2), (5, 2), (5, 1), (5, 0), (5, 1), (5, 0), (6, 0), (5, 0), (5, 1), (5, 0), (6, 0), (7, 0), (7, 1), (7, 0), (6, 0), (7, 0), (6, 0), (5, 0), (5, 1), (5, 2), (5, 1), (5, 0), (6, 0), (7, 0), (7, 1), (7, 2), (7, 1), (7, 2), (7, 1), (7, 0), (7, 1), (7, 0), (7, 1), (7, 2), (7, 3), (7, 2), (7, 3), (7, 2), (7, 3), (7, 2), (7, 1), (7, 0), (6, 0), (7, 0), (6, 0), (5, 0), (5, 1), (5, 0), (6, 0), (5, 0), (4, 0), (5, 0), (4, 0), (5, 0), (4, 0), (5, 0), (5, 1), (5, 2), (4, 2), (4, 3), (4, 2), (5, 2), (4, 2), (3, 2), (4, 2), (3, 2), (4, 2), (4, 3), (4, 2), (4, 3), (4, 2), (3, 2), (4, 2), (5, 2), (5, 1), (5, 2), (4, 2), (3, 2), (2, 2), (2, 3), (1, 3), (1, 4), (1, 5), (2, 5), (2, 6), (1, 6), (1, 5), (1, 4), (1, 3), (1, 4), (1, 3), (2, 3), (2, 2), (3, 2), (4, 2), (3, 2), (4, 2), (4, 3), (4, 2), (3, 2), (4, 2), (4, 3), (4, 4), (3, 4), (3, 5), (2, 5), (2, 6), (2, 7), (2, 6), (2, 7), (2, 6), (2, 5), (3, 5), (3, 4), (2, 4), (1, 4), (1, 5), (1, 6), (1, 5), (1, 4), (1, 3), (1, 4), (1, 3), (1, 4), (2, 4), (2, 5), (3, 5), (3, 6), (2, 6), (2, 5), (2, 4), (2, 3), (2, 2), (2, 1), (2, 0), (1, 0), (0, 0), (1, 0), (0, 0), (0, 1), (0, 2), (0, 1), (0, 0), (0, 1), (0, 0), (1, 0), (2, 0), (1, 0), (0, 0), (1, 0), (2, 0), (2, 1), (2, 2), (2, 1), (2, 0), (2, 1), (2, 0), (2, 1), (2, 0), (2, 1), (2, 2), (2, 1), (2, 2), (2, 3), (2, 2), (3, 2), (4, 2), (4, 3), (4, 4), (3, 4), (4, 4), (5, 4), (4, 4), (4, 3), (4, 4), (5, 4), (6, 4), (7, 4), (6, 4), (7, 4), (7, 3), (7, 4), (7, 3), (7, 2), (7, 3), (6, 3), (7, 3), (7, 4), (7, 3), (7, 2), (7, 1), (7, 0), (6, 0), (5, 0), (6, 0), (5, 0), (4, 0), (5, 0), (6, 0), (7, 0), (7, 1), (7, 0), (6, 0), (7, 0), (7, 1), (7, 2), (7, 1), (7, 0), (7, 1), (7, 2), (7, 3), (7, 2), (7, 3), (7, 2), (7, 1), (7, 2), (7, 1), (7, 2), (7, 3), (7, 2), (7, 1), (7, 2), (7, 1), (7, 0), (6, 0), (7, 0), (7, 1), (7, 0), (6, 0), (5, 0), (4, 0), (5, 0), (6, 0), (7, 0), (7, 1), (7, 2), (7, 1), (7, 0), (6, 0), (5, 0), (4, 0), (5, 0), (5, 1), (5, 2), (5, 1), (5, 0), (4, 0), (5, 0), (5, 1), (5, 2), (4, 2), (4, 3), (4, 4), (4, 3), (4, 2), (4, 3), (4, 4), (3, 4), (4, 4), (4, 3), (4, 4), (4, 5), (4, 4), (3, 4), (3, 5), (3, 4), (3, 5), (3, 4), (3, 5), (3, 6), (3, 7), (3, 6), (3, 5), (3, 4), (3, 5), (3, 6), (3, 7), (3, 6), (2, 6), (2, 5), (2, 4), (3, 4), (2, 4), (2, 3), (1, 3), (0, 3), (1, 3), (1, 4), (1, 3), (2, 3), (1, 3), (1, 4), (1, 3), (2, 3), (1, 3), (0, 3), (1, 3), (0, 3), (0, 2), (0, 3), (0, 2), (0, 3), (1, 3), (0, 3), (0, 2), (0, 1), (0, 0), (0, 1), (0, 0), (1, 0), (0, 0), (0, 1), (0, 2), (0, 1), (0, 2), (0, 1), (0, 2), (0, 1), (0, 0), (1, 0), (2, 0), (1, 0), (0, 0), (0, 1), (0, 0), (0, 1), (0, 2), (0, 3), (1, 3), (0, 3), (0, 2), (0, 1), (0, 2), (0, 1), (0, 2), (0, 3), (1, 3), (1, 4), (1, 5), (1, 4), (2, 4), (2, 5), (1, 5), (1, 6), (0, 6), (0, 7), (0, 6), (0, 7), (0, 6), (1, 6), (1, 5), (1, 4), (1, 5), (2, 5), (3, 5), (3, 6), (3, 7), (3, 6), (3, 7), (3, 6), (3, 5), (3, 4), (4, 4), (5, 4), (6, 4), (6, 3), (7, 3), (7, 4), (6, 4), (6, 3), (7, 3), (7, 2), (7, 3), (7, 4), (6, 4), (6, 3), (6, 4), (7, 4), (7, 3), (7, 2), (7, 3), (7, 2), (7, 3), (7, 4), (6, 4), (5, 4), (4, 4), (5, 4), (4, 4), (3, 4), (4, 4), (5, 4), (4, 4), (3, 4), (2, 4), (3, 4), (4, 4), (5, 4), (4, 4), (4, 3), (4, 4), (5, 4), (4, 4), (5, 4), (5, 5), (5, 6), (5, 5), (5, 4), (6, 4), (7, 4), (7, 3), (7, 4), (7, 3), (7, 4), (7, 3), (6, 3), (6, 4), (7, 4), (6, 4), (7, 4), (7, 3), (6, 3), (6, 4), (7, 4), (6, 4), (5, 4), (6, 4), (7, 4), (7, 3), (7, 4), (6, 4), (5, 4), (6, 4), (5, 4), (4, 4), (5, 4), (4, 4), (4, 5), (5, 5), (5, 4), (6, 4), (6, 3), (6, 4), (5, 4), (5, 5), (5, 4), (5, 5), (5, 6), (5, 5), (5, 6), (6, 6), (7, 6), (6, 6), (6, 7), (7, 7)]\n",
      "Total path cost using Genetic Search Algorithm: 5020\n",
      "Total Memory Usage Genetic Search Algorithm: 1000\n"
     ]
    }
   ],
   "source": [
    "#Invoke algorithm 2 (Should Print the solution, path, cost etc., (As mentioned in the problem))\n",
    "args.append(\"-a\")\n",
    "\n",
    "# Note: Use the grid_env that was created for GBFS, since we want Genetic Search to run on the same grid\n",
    "genetic_search = SearchAlgorithmFactory.create_search_algorithm(args, gbfs.grid_env)\n",
    "gs_results, gs_etime, gs_emem = genetic_search.search()\n",
    "gs_path = gs_results[0]\n",
    "gs_cost = gs_results[1]\n",
    "\n",
    "print(\"Path taken by the agent using Genetic Search Algorithm:\", gs_path)\n",
    "print(\"Total path cost using Genetic Search Algorithm:\", gs_cost)\n",
    "print(\"Total Memory Usage Genetic Search Algorithm:\", genetic_search.total_nodes_expanded)"
   ]
  },
  {
   "cell_type": "code",
   "execution_count": 25,
   "metadata": {
    "colab": {
     "base_uri": "https://localhost:8080/",
     "height": 495
    },
    "id": "cGkyj32_V8VX",
    "outputId": "61e782c1-e5a1-4b18-9b5b-8495c36050aa"
   },
   "outputs": [
    {
     "name": "stderr",
     "output_type": "stream",
     "text": [
      "No artists with labels found to put in legend.  Note that artists whose label start with an underscore are ignored when legend() is called with no argument.\n"
     ]
    },
    {
     "data": {
      "image/png": "[encoded data removed]",
      "text/plain": [
       "<Figure size 640x480 with 1 Axes>"
      ]
     },
     "metadata": {},
     "output_type": "display_data"
    }
   ],
   "source": [
    "genetic_search.grid_env.visualize(gs_path)"
   ]
  },
  {
   "cell_type": "markdown",
   "metadata": {
    "id": "TOU3Rem6F7sQ"
   },
   "source": [
    "## 5.\tComparitive Analysis"
   ]
  },
  {
   "cell_type": "code",
   "execution_count": 26,
   "metadata": {
    "colab": {
     "base_uri": "https://localhost:8080/"
    },
    "id": "HG6fWwiIF7sQ",
    "outputId": "1a76e5e1-6208-4041-8b6d-51838157f811"
   },
   "outputs": [
    {
     "name": "stdout",
     "output_type": "stream",
     "text": [
      "Greedy Best First Search: \n",
      "\ttime complexity: 4782969 \n",
      "\tand \n",
      "\tspace complexity: 6\n"
     ]
    }
   ],
   "source": [
    "#Code Block : Print the Time & Space complexity of GBFS algorithm\n",
    "gbfs_time_complexity, gbfs_space_complexity = gbfs.time_and_space_complexity()\n",
    "print(\"Greedy Best First Search: \\n\\ttime complexity: {gbfs_tc} \\n\\tand \\n\\tspace complexity: {gbfs_sc}\".format(gbfs_tc=gbfs_time_complexity, gbfs_sc=gbfs_space_complexity))"
   ]
  },
  {
   "cell_type": "code",
   "execution_count": 27,
   "metadata": {
    "colab": {
     "base_uri": "https://localhost:8080/"
    },
    "id": "xMButLKCF7sQ",
    "outputId": "91679316-7e4f-46f6-b1a8-2be7572f3275"
   },
   "outputs": [
    {
     "name": "stdout",
     "output_type": "stream",
     "text": [
      "Genetic Search: \n",
      "\ttime complexity: 962600.0 \n",
      "\tand \n",
      "\tspace complexity: 10250\n"
     ]
    }
   ],
   "source": [
    "#Code Block : Print the Time & Space complexity of Genetic algorithm\n",
    "gs_tc, gs_sc = genetic_search.time_and_space_complexity()\n",
    "print(\"Genetic Search: \\n\\ttime complexity: {gs_tc} \\n\\tand \\n\\tspace complexity: {gs_sc}\".format(gs_tc=gs_tc, gs_sc=gs_sc))"
   ]
  },
  {
   "cell_type": "markdown",
   "metadata": {
    "id": "Ra4HkSZjLjhl"
   },
   "source": [
    "# 6.\tProvide your comparitive analysis or findings in no more than 3 lines in below section"
   ]
  },
  {
   "cell_type": "markdown",
   "metadata": {
    "id": "H1ynz8mTLJ7X"
   },
   "source": [
    "- GBFS efficiently finds shortest paths but struggles with dead ends caused by blockages. Hence, it may require restarting from different paths.\n",
    "- Genetic Algorithm explores diverse paths simultaneously, potentially bypassing dead ends. But finding optimal paths can be slower and require tuning parameters.\n",
    "-  Hence, GBFS is memory efficient and faster for clear paths. However, it gets stuck on blockages. While genetic search algorithm handle blockages better but is slower and consumes much larger memory."
   ]
  },
  {
   "cell_type": "code",
   "execution_count": null,
   "metadata": {},
   "outputs": [],
   "source": []
  }
 ],
 "metadata": {
  "colab": {
   "include_colab_link": true,
   "provenance": [],
   "toc_visible": true
  },
  "kernelspec": {
   "display_name": "Python 3 (ipykernel)",
   "language": "python",
   "name": "python3"
  },
  "language_info": {
   "codemirror_mode": {
    "name": "ipython",
    "version": 3
   },
   "file_extension": ".py",
   "mimetype": "text/x-python",
   "name": "python",
   "nbconvert_exporter": "python",
   "pygments_lexer": "ipython3",
   "version": "3.11.5"
  }
 },
 "nbformat": 4,
 "nbformat_minor": 1
}
